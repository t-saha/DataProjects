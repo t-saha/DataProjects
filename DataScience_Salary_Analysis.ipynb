{
 "cells": [
  {
   "cell_type": "markdown",
   "id": "177e404e",
   "metadata": {
    "papermill": {
     "duration": 0.013667,
     "end_time": "2023-05-15T08:39:37.541806",
     "exception": false,
     "start_time": "2023-05-15T08:39:37.528139",
     "status": "completed"
    },
    "tags": []
   },
   "source": [
    "## 1. Set environment"
   ]
  },
  {
   "cell_type": "markdown",
   "id": "0cfc0009",
   "metadata": {
    "papermill": {
     "duration": 0.010878,
     "end_time": "2023-05-15T08:39:37.564070",
     "exception": false,
     "start_time": "2023-05-15T08:39:37.553192",
     "status": "completed"
    },
    "tags": []
   },
   "source": [
    "### Load libraries"
   ]
  },
  {
   "cell_type": "code",
   "execution_count": 1,
   "id": "024f3607",
   "metadata": {
    "_kg_hide-output": true,
    "execution": {
     "iopub.execute_input": "2023-05-15T08:39:37.588361Z",
     "iopub.status.busy": "2023-05-15T08:39:37.587600Z",
     "iopub.status.idle": "2023-05-15T08:39:38.820092Z",
     "shell.execute_reply": "2023-05-15T08:39:38.818975Z"
    },
    "papermill": {
     "duration": 1.247433,
     "end_time": "2023-05-15T08:39:38.822595",
     "exception": false,
     "start_time": "2023-05-15T08:39:37.575162",
     "status": "completed"
    },
    "tags": []
   },
   "outputs": [
    {
     "name": "stderr",
     "output_type": "stream",
     "text": [
      "/opt/conda/lib/python3.10/site-packages/scipy/__init__.py:146: UserWarning: A NumPy version >=1.16.5 and <1.23.0 is required for this version of SciPy (detected version 1.23.5\n",
      "  warnings.warn(f\"A NumPy version >={np_minversion} and <{np_maxversion}\"\n"
     ]
    }
   ],
   "source": [
    "import pandas as pd\n",
    "import numpy as np\n",
    "import matplotlib.pyplot as plt\n",
    "import seaborn as sns\n",
    "import warnings\n",
    "\n",
    "warnings.filterwarnings('ignore')\n",
    "pd.options.display.max_columns = None"
   ]
  },
  {
   "cell_type": "code",
   "execution_count": 2,
   "id": "b07177b6",
   "metadata": {
    "execution": {
     "iopub.execute_input": "2023-05-15T08:39:38.847824Z",
     "iopub.status.busy": "2023-05-15T08:39:38.847479Z",
     "iopub.status.idle": "2023-05-15T08:39:38.882192Z",
     "shell.execute_reply": "2023-05-15T08:39:38.880684Z"
    },
    "papermill": {
     "duration": 0.050331,
     "end_time": "2023-05-15T08:39:38.884671",
     "exception": false,
     "start_time": "2023-05-15T08:39:38.834340",
     "status": "completed"
    },
    "tags": []
   },
   "outputs": [],
   "source": [
    "df = pd.read_csv(\"/kaggle/input/data-science-salaries-2023/ds_salaries.csv\")"
   ]
  },
  {
   "cell_type": "markdown",
   "id": "b416a2fe",
   "metadata": {
    "papermill": {
     "duration": 0.012012,
     "end_time": "2023-05-15T08:39:38.908534",
     "exception": false,
     "start_time": "2023-05-15T08:39:38.896522",
     "status": "completed"
    },
    "tags": []
   },
   "source": [
    "### Preliminary EDA"
   ]
  },
  {
   "cell_type": "code",
   "execution_count": 3,
   "id": "be3cf98e",
   "metadata": {
    "execution": {
     "iopub.execute_input": "2023-05-15T08:39:38.933885Z",
     "iopub.status.busy": "2023-05-15T08:39:38.932909Z",
     "iopub.status.idle": "2023-05-15T08:39:38.983078Z",
     "shell.execute_reply": "2023-05-15T08:39:38.982027Z"
    },
    "papermill": {
     "duration": 0.065192,
     "end_time": "2023-05-15T08:39:38.985356",
     "exception": false,
     "start_time": "2023-05-15T08:39:38.920164",
     "status": "completed"
    },
    "tags": []
   },
   "outputs": [
    {
     "name": "stdout",
     "output_type": "stream",
     "text": [
      "\n",
      "Dimensions of dataset \n",
      "\n",
      " (3755, 11)\n",
      "\n",
      "\n",
      "Summary of dataset \n",
      "\n",
      "          work_year        salary  salary_in_usd  remote_ratio\n",
      "count  3755.000000  3.755000e+03    3755.000000   3755.000000\n",
      "mean   2022.373635  1.906956e+05  137570.389880     46.271638\n",
      "std       0.691448  6.716765e+05   63055.625278     48.589050\n",
      "min    2020.000000  6.000000e+03    5132.000000      0.000000\n",
      "25%    2022.000000  1.000000e+05   95000.000000      0.000000\n",
      "50%    2022.000000  1.380000e+05  135000.000000      0.000000\n",
      "75%    2023.000000  1.800000e+05  175000.000000    100.000000\n",
      "max    2023.000000  3.040000e+07  450000.000000    100.000000\n",
      "\n",
      "\n",
      "Datatypes \n",
      "\n",
      " work_year              int64\n",
      "experience_level      object\n",
      "employment_type       object\n",
      "job_title             object\n",
      "salary                 int64\n",
      "salary_currency       object\n",
      "salary_in_usd          int64\n",
      "employee_residence    object\n",
      "remote_ratio           int64\n",
      "company_location      object\n",
      "company_size          object\n",
      "dtype: object\n",
      "\n",
      "\n",
      "Dataset glimpse \n",
      "\n"
     ]
    },
    {
     "data": {
      "text/html": [
       "<div>\n",
       "<style scoped>\n",
       "    .dataframe tbody tr th:only-of-type {\n",
       "        vertical-align: middle;\n",
       "    }\n",
       "\n",
       "    .dataframe tbody tr th {\n",
       "        vertical-align: top;\n",
       "    }\n",
       "\n",
       "    .dataframe thead th {\n",
       "        text-align: right;\n",
       "    }\n",
       "</style>\n",
       "<table border=\"1\" class=\"dataframe\">\n",
       "  <thead>\n",
       "    <tr style=\"text-align: right;\">\n",
       "      <th></th>\n",
       "      <th>work_year</th>\n",
       "      <th>experience_level</th>\n",
       "      <th>employment_type</th>\n",
       "      <th>job_title</th>\n",
       "      <th>salary</th>\n",
       "      <th>salary_currency</th>\n",
       "      <th>salary_in_usd</th>\n",
       "      <th>employee_residence</th>\n",
       "      <th>remote_ratio</th>\n",
       "      <th>company_location</th>\n",
       "      <th>company_size</th>\n",
       "    </tr>\n",
       "  </thead>\n",
       "  <tbody>\n",
       "    <tr>\n",
       "      <th>0</th>\n",
       "      <td>2023</td>\n",
       "      <td>SE</td>\n",
       "      <td>FT</td>\n",
       "      <td>Principal Data Scientist</td>\n",
       "      <td>80000</td>\n",
       "      <td>EUR</td>\n",
       "      <td>85847</td>\n",
       "      <td>ES</td>\n",
       "      <td>100</td>\n",
       "      <td>ES</td>\n",
       "      <td>L</td>\n",
       "    </tr>\n",
       "    <tr>\n",
       "      <th>1</th>\n",
       "      <td>2023</td>\n",
       "      <td>MI</td>\n",
       "      <td>CT</td>\n",
       "      <td>ML Engineer</td>\n",
       "      <td>30000</td>\n",
       "      <td>USD</td>\n",
       "      <td>30000</td>\n",
       "      <td>US</td>\n",
       "      <td>100</td>\n",
       "      <td>US</td>\n",
       "      <td>S</td>\n",
       "    </tr>\n",
       "    <tr>\n",
       "      <th>2</th>\n",
       "      <td>2023</td>\n",
       "      <td>MI</td>\n",
       "      <td>CT</td>\n",
       "      <td>ML Engineer</td>\n",
       "      <td>25500</td>\n",
       "      <td>USD</td>\n",
       "      <td>25500</td>\n",
       "      <td>US</td>\n",
       "      <td>100</td>\n",
       "      <td>US</td>\n",
       "      <td>S</td>\n",
       "    </tr>\n",
       "    <tr>\n",
       "      <th>3</th>\n",
       "      <td>2023</td>\n",
       "      <td>SE</td>\n",
       "      <td>FT</td>\n",
       "      <td>Data Scientist</td>\n",
       "      <td>175000</td>\n",
       "      <td>USD</td>\n",
       "      <td>175000</td>\n",
       "      <td>CA</td>\n",
       "      <td>100</td>\n",
       "      <td>CA</td>\n",
       "      <td>M</td>\n",
       "    </tr>\n",
       "    <tr>\n",
       "      <th>4</th>\n",
       "      <td>2023</td>\n",
       "      <td>SE</td>\n",
       "      <td>FT</td>\n",
       "      <td>Data Scientist</td>\n",
       "      <td>120000</td>\n",
       "      <td>USD</td>\n",
       "      <td>120000</td>\n",
       "      <td>CA</td>\n",
       "      <td>100</td>\n",
       "      <td>CA</td>\n",
       "      <td>M</td>\n",
       "    </tr>\n",
       "  </tbody>\n",
       "</table>\n",
       "</div>"
      ],
      "text/plain": [
       "   work_year experience_level employment_type                 job_title  \\\n",
       "0       2023               SE              FT  Principal Data Scientist   \n",
       "1       2023               MI              CT               ML Engineer   \n",
       "2       2023               MI              CT               ML Engineer   \n",
       "3       2023               SE              FT            Data Scientist   \n",
       "4       2023               SE              FT            Data Scientist   \n",
       "\n",
       "   salary salary_currency  salary_in_usd employee_residence  remote_ratio  \\\n",
       "0   80000             EUR          85847                 ES           100   \n",
       "1   30000             USD          30000                 US           100   \n",
       "2   25500             USD          25500                 US           100   \n",
       "3  175000             USD         175000                 CA           100   \n",
       "4  120000             USD         120000                 CA           100   \n",
       "\n",
       "  company_location company_size  \n",
       "0               ES            L  \n",
       "1               US            S  \n",
       "2               US            S  \n",
       "3               CA            M  \n",
       "4               CA            M  "
      ]
     },
     "execution_count": 3,
     "metadata": {},
     "output_type": "execute_result"
    }
   ],
   "source": [
    "def get_summary(dataset):\n",
    "    print(\"\\nDimensions of dataset \\n\\n\", dataset.shape)  \n",
    "    print(\"\\n\\nSummary of dataset \\n\\n\", dataset.describe())    \n",
    "    print(\"\\n\\nDatatypes \\n\\n\", dataset.dtypes)\n",
    "    print(\"\\n\\nDataset glimpse \\n\")\n",
    "    return(dataset.head(5))\n",
    "\n",
    "get_summary(df)"
   ]
  },
  {
   "cell_type": "markdown",
   "id": "1f766828",
   "metadata": {
    "papermill": {
     "duration": 0.011751,
     "end_time": "2023-05-15T08:39:39.009036",
     "exception": false,
     "start_time": "2023-05-15T08:39:38.997285",
     "status": "completed"
    },
    "tags": []
   },
   "source": [
    "## 2. Data processing"
   ]
  },
  {
   "cell_type": "markdown",
   "id": "cb4034c8",
   "metadata": {
    "papermill": {
     "duration": 0.011736,
     "end_time": "2023-05-15T08:39:39.032545",
     "exception": false,
     "start_time": "2023-05-15T08:39:39.020809",
     "status": "completed"
    },
    "tags": []
   },
   "source": [
    "### Rename categorical column values for better understanding"
   ]
  },
  {
   "cell_type": "code",
   "execution_count": 4,
   "id": "5fdba921",
   "metadata": {
    "execution": {
     "iopub.execute_input": "2023-05-15T08:39:39.058009Z",
     "iopub.status.busy": "2023-05-15T08:39:39.056982Z",
     "iopub.status.idle": "2023-05-15T08:39:39.069489Z",
     "shell.execute_reply": "2023-05-15T08:39:39.068423Z"
    },
    "papermill": {
     "duration": 0.027609,
     "end_time": "2023-05-15T08:39:39.071839",
     "exception": false,
     "start_time": "2023-05-15T08:39:39.044230",
     "status": "completed"
    },
    "tags": []
   },
   "outputs": [],
   "source": [
    "df['experience_level'] = df['experience_level'].replace({'SE':'Senior', 'MI':'Mid-level', 'EN':'Entry-level','EX':'Executive-level'})\n",
    "df['employment_type'] = df['employment_type'].replace({'FT':'Full-time', 'CT':'Contractual','PT':'Part-time', 'FL':'Freelancer'})\n",
    "df['remote_ratio'] = df['remote_ratio'].replace({100: 'On-site', 0:'Remote', 50:'Hybrid'})"
   ]
  },
  {
   "cell_type": "markdown",
   "id": "090ceeac",
   "metadata": {
    "papermill": {
     "duration": 0.01202,
     "end_time": "2023-05-15T08:39:39.097354",
     "exception": false,
     "start_time": "2023-05-15T08:39:39.085334",
     "status": "completed"
    },
    "tags": []
   },
   "source": [
    "### Check for duplicates"
   ]
  },
  {
   "cell_type": "code",
   "execution_count": 5,
   "id": "d1a82924",
   "metadata": {
    "execution": {
     "iopub.execute_input": "2023-05-15T08:39:39.123744Z",
     "iopub.status.busy": "2023-05-15T08:39:39.123200Z",
     "iopub.status.idle": "2023-05-15T08:39:39.151763Z",
     "shell.execute_reply": "2023-05-15T08:39:39.150230Z"
    },
    "papermill": {
     "duration": 0.04509,
     "end_time": "2023-05-15T08:39:39.154449",
     "exception": false,
     "start_time": "2023-05-15T08:39:39.109359",
     "status": "completed"
    },
    "tags": []
   },
   "outputs": [],
   "source": [
    "duplicate_rows = df[df.duplicated()]\n",
    "duplicate_rows.shape\n",
    "\n",
    "#keep only the first row of the duplicated rows\n",
    "df = df.drop_duplicates(keep='last')"
   ]
  },
  {
   "cell_type": "markdown",
   "id": "4294acc2",
   "metadata": {
    "papermill": {
     "duration": 0.014593,
     "end_time": "2023-05-15T08:39:39.182818",
     "exception": false,
     "start_time": "2023-05-15T08:39:39.168225",
     "status": "completed"
    },
    "tags": []
   },
   "source": [
    "### Drop unnecessary columns"
   ]
  },
  {
   "cell_type": "code",
   "execution_count": 6,
   "id": "d42b6f27",
   "metadata": {
    "execution": {
     "iopub.execute_input": "2023-05-15T08:39:39.212884Z",
     "iopub.status.busy": "2023-05-15T08:39:39.211935Z",
     "iopub.status.idle": "2023-05-15T08:39:39.218270Z",
     "shell.execute_reply": "2023-05-15T08:39:39.217578Z"
    },
    "papermill": {
     "duration": 0.023987,
     "end_time": "2023-05-15T08:39:39.220169",
     "exception": false,
     "start_time": "2023-05-15T08:39:39.196182",
     "status": "completed"
    },
    "tags": []
   },
   "outputs": [],
   "source": [
    "df = df.drop(['salary_currency', 'salary'], axis=1)"
   ]
  },
  {
   "cell_type": "markdown",
   "id": "9f0a325e",
   "metadata": {
    "papermill": {
     "duration": 0.014542,
     "end_time": "2023-05-15T08:39:39.248289",
     "exception": false,
     "start_time": "2023-05-15T08:39:39.233747",
     "status": "completed"
    },
    "tags": []
   },
   "source": [
    "### Check for missing data"
   ]
  },
  {
   "cell_type": "code",
   "execution_count": 7,
   "id": "c78b074d",
   "metadata": {
    "_kg_hide-input": true,
    "execution": {
     "iopub.execute_input": "2023-05-15T08:39:39.276936Z",
     "iopub.status.busy": "2023-05-15T08:39:39.275799Z",
     "iopub.status.idle": "2023-05-15T08:39:39.286202Z",
     "shell.execute_reply": "2023-05-15T08:39:39.285303Z"
    },
    "papermill": {
     "duration": 0.025765,
     "end_time": "2023-05-15T08:39:39.287821",
     "exception": false,
     "start_time": "2023-05-15T08:39:39.262056",
     "status": "completed"
    },
    "tags": []
   },
   "outputs": [
    {
     "data": {
      "text/plain": [
       "work_year             0\n",
       "experience_level      0\n",
       "employment_type       0\n",
       "job_title             0\n",
       "salary_in_usd         0\n",
       "employee_residence    0\n",
       "remote_ratio          0\n",
       "company_location      0\n",
       "company_size          0\n",
       "dtype: int64"
      ]
     },
     "execution_count": 7,
     "metadata": {},
     "output_type": "execute_result"
    }
   ],
   "source": [
    "df.isnull().sum()"
   ]
  },
  {
   "cell_type": "markdown",
   "id": "51dd581e",
   "metadata": {
    "papermill": {
     "duration": 0.011598,
     "end_time": "2023-05-15T08:39:39.311644",
     "exception": false,
     "start_time": "2023-05-15T08:39:39.300046",
     "status": "completed"
    },
    "tags": []
   },
   "source": [
    "## 3. Visualization"
   ]
  },
  {
   "cell_type": "markdown",
   "id": "ccf4a21a",
   "metadata": {
    "papermill": {
     "duration": 0.011316,
     "end_time": "2023-05-15T08:39:39.334538",
     "exception": false,
     "start_time": "2023-05-15T08:39:39.323222",
     "status": "completed"
    },
    "tags": []
   },
   "source": [
    "### Top 10 : Job titles and associated average salary"
   ]
  },
  {
   "cell_type": "code",
   "execution_count": 8,
   "id": "a455ac5c",
   "metadata": {
    "_kg_hide-input": true,
    "execution": {
     "iopub.execute_input": "2023-05-15T08:39:39.362823Z",
     "iopub.status.busy": "2023-05-15T08:39:39.362188Z",
     "iopub.status.idle": "2023-05-15T08:39:39.380901Z",
     "shell.execute_reply": "2023-05-15T08:39:39.379809Z"
    },
    "papermill": {
     "duration": 0.035738,
     "end_time": "2023-05-15T08:39:39.383124",
     "exception": false,
     "start_time": "2023-05-15T08:39:39.347386",
     "status": "completed"
    },
    "tags": []
   },
   "outputs": [
    {
     "data": {
      "text/html": [
       "<div>\n",
       "<style scoped>\n",
       "    .dataframe tbody tr th:only-of-type {\n",
       "        vertical-align: middle;\n",
       "    }\n",
       "\n",
       "    .dataframe tbody tr th {\n",
       "        vertical-align: top;\n",
       "    }\n",
       "\n",
       "    .dataframe thead th {\n",
       "        text-align: right;\n",
       "    }\n",
       "</style>\n",
       "<table border=\"1\" class=\"dataframe\">\n",
       "  <thead>\n",
       "    <tr style=\"text-align: right;\">\n",
       "      <th></th>\n",
       "      <th>salary_in_usd</th>\n",
       "    </tr>\n",
       "    <tr>\n",
       "      <th>job_title</th>\n",
       "      <th></th>\n",
       "    </tr>\n",
       "  </thead>\n",
       "  <tbody>\n",
       "    <tr>\n",
       "      <th>Data Science Tech Lead</th>\n",
       "      <td>375000.00</td>\n",
       "    </tr>\n",
       "    <tr>\n",
       "      <th>Cloud Data Architect</th>\n",
       "      <td>250000.00</td>\n",
       "    </tr>\n",
       "    <tr>\n",
       "      <th>Data Lead</th>\n",
       "      <td>212500.00</td>\n",
       "    </tr>\n",
       "    <tr>\n",
       "      <th>Data Analytics Lead</th>\n",
       "      <td>211254.50</td>\n",
       "    </tr>\n",
       "    <tr>\n",
       "      <th>Principal Data Scientist</th>\n",
       "      <td>198171.12</td>\n",
       "    </tr>\n",
       "    <tr>\n",
       "      <th>Director of Data Science</th>\n",
       "      <td>195140.73</td>\n",
       "    </tr>\n",
       "    <tr>\n",
       "      <th>Principal Data Engineer</th>\n",
       "      <td>192500.00</td>\n",
       "    </tr>\n",
       "    <tr>\n",
       "      <th>Machine Learning Software Engineer</th>\n",
       "      <td>192420.00</td>\n",
       "    </tr>\n",
       "    <tr>\n",
       "      <th>Applied Scientist</th>\n",
       "      <td>190342.58</td>\n",
       "    </tr>\n",
       "    <tr>\n",
       "      <th>Principal Machine Learning Engineer</th>\n",
       "      <td>190000.00</td>\n",
       "    </tr>\n",
       "  </tbody>\n",
       "</table>\n",
       "</div>"
      ],
      "text/plain": [
       "                                     salary_in_usd\n",
       "job_title                                         \n",
       "Data Science Tech Lead                   375000.00\n",
       "Cloud Data Architect                     250000.00\n",
       "Data Lead                                212500.00\n",
       "Data Analytics Lead                      211254.50\n",
       "Principal Data Scientist                 198171.12\n",
       "Director of Data Science                 195140.73\n",
       "Principal Data Engineer                  192500.00\n",
       "Machine Learning Software Engineer       192420.00\n",
       "Applied Scientist                        190342.58\n",
       "Principal Machine Learning Engineer      190000.00"
      ]
     },
     "execution_count": 8,
     "metadata": {},
     "output_type": "execute_result"
    }
   ],
   "source": [
    "top_salary =  df.groupby('job_title').agg({'salary_in_usd':'mean'}).round(2).sort_values('salary_in_usd', ascending=False).head(10)\n",
    "top_salary.head(10)"
   ]
  },
  {
   "cell_type": "code",
   "execution_count": 9,
   "id": "274dce21",
   "metadata": {
    "_kg_hide-input": true,
    "execution": {
     "iopub.execute_input": "2023-05-15T08:39:39.414515Z",
     "iopub.status.busy": "2023-05-15T08:39:39.413865Z",
     "iopub.status.idle": "2023-05-15T08:39:39.780635Z",
     "shell.execute_reply": "2023-05-15T08:39:39.779769Z"
    },
    "papermill": {
     "duration": 0.384074,
     "end_time": "2023-05-15T08:39:39.782726",
     "exception": false,
     "start_time": "2023-05-15T08:39:39.398652",
     "status": "completed"
    },
    "tags": []
   },
   "outputs": [
    {
     "data": {
      "image/png": "[encoded data removed]",
      "text/plain": [
       "<Figure size 800x400 with 1 Axes>"
      ]
     },
     "metadata": {},
     "output_type": "display_data"
    }
   ],
   "source": [
    "plt.figure(figsize=(8,4))\n",
    "\n",
    "sns.set(style=\"whitegrid\")\n",
    "ax= sns.barplot(y = top_salary.index, x ='salary_in_usd', \n",
    "            data = top_salary,           \n",
    "            palette = \"viridis\",\n",
    "            width=0.9)\n",
    "            \n",
    "plt.title('Top 10 Highest Annual Salaries and Job Titles\\n', fontsize=16, fontweight=\"bold\", loc=\"center\")\n",
    "plt.suptitle(\"\\nSalary calculated by average\\n\", fontsize = 10, color=\"gray\")\n",
    "plt.xlabel('\\nSalary (USD)', color=\"black\", fontsize=10)\n",
    "plt.ylabel('Job title', color=\"black\", fontsize=10)\n",
    "plt.xticks(fontsize=10, color=\"black\")\n",
    "plt.yticks(fontsize=10, color=\"black\")\n",
    "\n",
    "for i in ax.containers:\n",
    "    ax.bar_label(i, size=10, label_type = \"center\", color=\"white\", fontweight=\"bold\")\n",
    "\n",
    "plt.show() #not needed in Jupyter environment but this opens the plot in another window in other environments"
   ]
  },
  {
   "cell_type": "code",
   "execution_count": 10,
   "id": "c34561f0",
   "metadata": {
    "_kg_hide-input": true,
    "execution": {
     "iopub.execute_input": "2023-05-15T08:39:39.814925Z",
     "iopub.status.busy": "2023-05-15T08:39:39.814529Z",
     "iopub.status.idle": "2023-05-15T08:39:40.080590Z",
     "shell.execute_reply": "2023-05-15T08:39:40.079508Z"
    },
    "papermill": {
     "duration": 0.284822,
     "end_time": "2023-05-15T08:39:40.082964",
     "exception": false,
     "start_time": "2023-05-15T08:39:39.798142",
     "status": "completed"
    },
    "tags": []
   },
   "outputs": [
    {
     "data": {
      "text/plain": [
       "(array([-100000.,       0.,  100000.,  200000.,  300000.,  400000.,\n",
       "         500000.]),\n",
       " [Text(0, -100000.0, '−100000'),\n",
       "  Text(0, 0.0, '0'),\n",
       "  Text(0, 100000.0, '100000'),\n",
       "  Text(0, 200000.0, '200000'),\n",
       "  Text(0, 300000.0, '300000'),\n",
       "  Text(0, 400000.0, '400000'),\n",
       "  Text(0, 500000.0, '500000')])"
      ]
     },
     "execution_count": 10,
     "metadata": {},
     "output_type": "execute_result"
    },
    {
     "data": {
      "image/png": "[encoded data removed]",
      "text/plain": [
       "<Figure size 600x400 with 1 Axes>"
      ]
     },
     "metadata": {},
     "output_type": "display_data"
    }
   ],
   "source": [
    "plt.figure(figsize=(6,4))\n",
    "\n",
    "median_salary = df.groupby('experience_level')['salary_in_usd'].median().reset_index().sort_values('salary_in_usd')\n",
    "\n",
    "sns.boxplot(data=df, x='experience_level', y='salary_in_usd', \n",
    "            order=median_salary['experience_level'], \n",
    "            palette=\"viridis\")\n",
    "\n",
    "plt.title(\"Salaries according to Experience Level\\n\", fontsize=16, fontweight=\"bold\", loc=\"center\")\n",
    "plt.xlabel(\"\\nExperience Level\", color=\"black\", fontsize=10)\n",
    "plt.ylabel(\"Salary\", color=\"black\", fontsize=10)\n",
    "plt.xticks(fontsize=10, color=\"black\")\n",
    "plt.yticks(fontsize=10, color=\"black\")"
   ]
  },
  {
   "cell_type": "code",
   "execution_count": 11,
   "id": "b225b723",
   "metadata": {
    "execution": {
     "iopub.execute_input": "2023-05-15T08:39:40.112873Z",
     "iopub.status.busy": "2023-05-15T08:39:40.112489Z",
     "iopub.status.idle": "2023-05-15T08:39:40.123186Z",
     "shell.execute_reply": "2023-05-15T08:39:40.122163Z"
    },
    "papermill": {
     "duration": 0.028698,
     "end_time": "2023-05-15T08:39:40.125625",
     "exception": false,
     "start_time": "2023-05-15T08:39:40.096927",
     "status": "completed"
    },
    "tags": []
   },
   "outputs": [
    {
     "data": {
      "text/plain": [
       "2023    1156\n",
       "2022    1125\n",
       "2021     228\n",
       "2020      75\n",
       "Name: work_year, dtype: int64"
      ]
     },
     "execution_count": 11,
     "metadata": {},
     "output_type": "execute_result"
    }
   ],
   "source": [
    "df.work_year.value_counts()"
   ]
  },
  {
   "cell_type": "code",
   "execution_count": 12,
   "id": "4a2b2383",
   "metadata": {
    "_kg_hide-input": true,
    "execution": {
     "iopub.execute_input": "2023-05-15T08:39:40.155248Z",
     "iopub.status.busy": "2023-05-15T08:39:40.154867Z",
     "iopub.status.idle": "2023-05-15T08:39:40.508712Z",
     "shell.execute_reply": "2023-05-15T08:39:40.507720Z"
    },
    "papermill": {
     "duration": 0.371885,
     "end_time": "2023-05-15T08:39:40.511663",
     "exception": false,
     "start_time": "2023-05-15T08:39:40.139778",
     "status": "completed"
    },
    "tags": []
   },
   "outputs": [
    {
     "data": {
      "image/png": "[encoded data removed]",
      "text/plain": [
       "<Figure size 800x400 with 1 Axes>"
      ]
     },
     "metadata": {},
     "output_type": "display_data"
    }
   ],
   "source": [
    "#plt.hist(df['salary_in_usd'], bins=20, alpha = 0.8, color=\"cadetblue\")\n",
    "\n",
    "sns.set_theme(style=\"whitegrid\")\n",
    "plt.figure(figsize=(8,4))\n",
    "\n",
    "ax = sns.histplot(df['salary_in_usd'], alpha=0.8, color = \"teal\", bins=20,\n",
    "             kde = True)\n",
    "\n",
    "plt.xticks(range(0,500000,50000));\n",
    "plt.title(\"Salary Distribution\\n\", fontsize=16, fontweight = \"bold\")\n",
    "plt.xlabel('\\nSalary (USD)', color=\"black\",fontsize=10)\n",
    "plt.ylabel('Count', color = \"black\", fontsize=10)\n",
    "ax.lines[0].set_color('orangered') #change color of kde line\n",
    "#ax.lines[0].set_dashes((5,2))\n"
   ]
  },
  {
   "cell_type": "markdown",
   "id": "c7594d49",
   "metadata": {
    "papermill": {
     "duration": 0.013716,
     "end_time": "2023-05-15T08:39:40.539721",
     "exception": false,
     "start_time": "2023-05-15T08:39:40.526005",
     "status": "completed"
    },
    "tags": []
   },
   "source": [
    "### Does job type influence salary?"
   ]
  },
  {
   "cell_type": "code",
   "execution_count": 13,
   "id": "13948120",
   "metadata": {
    "_kg_hide-input": true,
    "execution": {
     "iopub.execute_input": "2023-05-15T08:39:40.569678Z",
     "iopub.status.busy": "2023-05-15T08:39:40.569299Z",
     "iopub.status.idle": "2023-05-15T08:39:40.582282Z",
     "shell.execute_reply": "2023-05-15T08:39:40.581095Z"
    },
    "papermill": {
     "duration": 0.030367,
     "end_time": "2023-05-15T08:39:40.584196",
     "exception": false,
     "start_time": "2023-05-15T08:39:40.553829",
     "status": "completed"
    },
    "tags": []
   },
   "outputs": [
    {
     "data": {
      "text/html": [
       "<div>\n",
       "<style scoped>\n",
       "    .dataframe tbody tr th:only-of-type {\n",
       "        vertical-align: middle;\n",
       "    }\n",
       "\n",
       "    .dataframe tbody tr th {\n",
       "        vertical-align: top;\n",
       "    }\n",
       "\n",
       "    .dataframe thead th {\n",
       "        text-align: right;\n",
       "    }\n",
       "</style>\n",
       "<table border=\"1\" class=\"dataframe\">\n",
       "  <thead>\n",
       "    <tr style=\"text-align: right;\">\n",
       "      <th></th>\n",
       "      <th>salary_in_usd</th>\n",
       "    </tr>\n",
       "    <tr>\n",
       "      <th>employment_type</th>\n",
       "      <th></th>\n",
       "    </tr>\n",
       "  </thead>\n",
       "  <tbody>\n",
       "    <tr>\n",
       "      <th>Full-time</th>\n",
       "      <td>134435.0</td>\n",
       "    </tr>\n",
       "    <tr>\n",
       "      <th>Contractual</th>\n",
       "      <td>113447.0</td>\n",
       "    </tr>\n",
       "    <tr>\n",
       "      <th>Freelancer</th>\n",
       "      <td>51808.0</td>\n",
       "    </tr>\n",
       "    <tr>\n",
       "      <th>Part-time</th>\n",
       "      <td>39534.0</td>\n",
       "    </tr>\n",
       "  </tbody>\n",
       "</table>\n",
       "</div>"
      ],
      "text/plain": [
       "                 salary_in_usd\n",
       "employment_type               \n",
       "Full-time             134435.0\n",
       "Contractual           113447.0\n",
       "Freelancer             51808.0\n",
       "Part-time              39534.0"
      ]
     },
     "execution_count": 13,
     "metadata": {},
     "output_type": "execute_result"
    }
   ],
   "source": [
    "job_type = df.groupby('employment_type').agg({'salary_in_usd':'mean'}).round(0).sort_values('salary_in_usd', ascending=False)\n",
    "\n",
    "job_type"
   ]
  },
  {
   "cell_type": "code",
   "execution_count": 14,
   "id": "a02aa3b5",
   "metadata": {
    "_kg_hide-input": true,
    "execution": {
     "iopub.execute_input": "2023-05-15T08:39:40.613342Z",
     "iopub.status.busy": "2023-05-15T08:39:40.613006Z",
     "iopub.status.idle": "2023-05-15T08:39:42.945736Z",
     "shell.execute_reply": "2023-05-15T08:39:42.944759Z"
    },
    "papermill": {
     "duration": 2.349406,
     "end_time": "2023-05-15T08:39:42.947611",
     "exception": false,
     "start_time": "2023-05-15T08:39:40.598205",
     "status": "completed"
    },
    "tags": []
   },
   "outputs": [
    {
     "data": {
      "text/html": [
       "        <script type=\"text/javascript\">\n",
       "        window.PlotlyConfig = {MathJaxConfig: 'local'};\n",
       "        if (window.MathJax && window.MathJax.Hub && window.MathJax.Hub.Config) {window.MathJax.Hub.Config({SVG: {font: \"STIX-Web\"}});}\n",
       "        if (typeof require !== 'undefined') {\n",
       "        require.undef(\"plotly\");\n",
       "        requirejs.config({\n",
       "            paths: {\n",
       "                'plotly': ['https://cdn.plot.ly/plotly-2.20.0.min']\n",
       "            }\n",
       "        });\n",
       "        require(['plotly'], function(Plotly) {\n",
       "            window._Plotly = Plotly;\n",
       "        });\n",
       "        }\n",
       "        </script>\n",
       "        "
      ]
     },
     "metadata": {},
     "output_type": "display_data"
    },
    {
     "data": {
      "text/html": [
       "<div>                            <div id=\"35b768b6-16ef-4c6b-9496-e18e8492708a\" class=\"plotly-graph-div\" style=\"height:400px; width:800px;\"></div>            <script type=\"text/javascript\">                require([\"plotly\"], function(Plotly) {                    window.PLOTLYENV=window.PLOTLYENV || {};                                    if (document.getElementById(\"35b768b6-16ef-4c6b-9496-e18e8492708a\")) {                    Plotly.newPlot(                        \"35b768b6-16ef-4c6b-9496-e18e8492708a\",                        [{\"hovertemplate\":\"employment_type=%{y}<br>salary_in_usd=%{marker.size}<extra></extra>\",\"legendgroup\":\"Full-time\",\"marker\":{\"color\":\"#636efa\",\"size\":[134435.0],\"sizemode\":\"area\",\"sizeref\":37.34305555555556,\"symbol\":\"circle\"},\"mode\":\"markers\",\"name\":\"Full-time\",\"orientation\":\"h\",\"showlegend\":true,\"x\":[134435.0],\"xaxis\":\"x\",\"y\":[\"Full-time\"],\"yaxis\":\"y\",\"type\":\"scatter\"},{\"hovertemplate\":\"employment_type=%{y}<br>salary_in_usd=%{marker.size}<extra></extra>\",\"legendgroup\":\"Contractual\",\"marker\":{\"color\":\"#EF553B\",\"size\":[113447.0],\"sizemode\":\"area\",\"sizeref\":37.34305555555556,\"symbol\":\"circle\"},\"mode\":\"markers\",\"name\":\"Contractual\",\"orientation\":\"h\",\"showlegend\":true,\"x\":[113447.0],\"xaxis\":\"x\",\"y\":[\"Contractual\"],\"yaxis\":\"y\",\"type\":\"scatter\"},{\"hovertemplate\":\"employment_type=%{y}<br>salary_in_usd=%{marker.size}<extra></extra>\",\"legendgroup\":\"Freelancer\",\"marker\":{\"color\":\"#00cc96\",\"size\":[51808.0],\"sizemode\":\"area\",\"sizeref\":37.34305555555556,\"symbol\":\"circle\"},\"mode\":\"markers\",\"name\":\"Freelancer\",\"orientation\":\"h\",\"showlegend\":true,\"x\":[51808.0],\"xaxis\":\"x\",\"y\":[\"Freelancer\"],\"yaxis\":\"y\",\"type\":\"scatter\"},{\"hovertemplate\":\"employment_type=%{y}<br>salary_in_usd=%{marker.size}<extra></extra>\",\"legendgroup\":\"Part-time\",\"marker\":{\"color\":\"#ab63fa\",\"size\":[39534.0],\"sizemode\":\"area\",\"sizeref\":37.34305555555556,\"symbol\":\"circle\"},\"mode\":\"markers\",\"name\":\"Part-time\",\"orientation\":\"h\",\"showlegend\":true,\"x\":[39534.0],\"xaxis\":\"x\",\"y\":[\"Part-time\"],\"yaxis\":\"y\",\"type\":\"scatter\"}],                        {\"template\":{\"data\":{\"histogram2dcontour\":[{\"type\":\"histogram2dcontour\",\"colorbar\":{\"outlinewidth\":0,\"ticks\":\"\"},\"colorscale\":[[0.0,\"#0d0887\"],[0.1111111111111111,\"#46039f\"],[0.2222222222222222,\"#7201a8\"],[0.3333333333333333,\"#9c179e\"],[0.4444444444444444,\"#bd3786\"],[0.5555555555555556,\"#d8576b\"],[0.6666666666666666,\"#ed7953\"],[0.7777777777777778,\"#fb9f3a\"],[0.8888888888888888,\"#fdca26\"],[1.0,\"#f0f921\"]]}],\"choropleth\":[{\"type\":\"choropleth\",\"colorbar\":{\"outlinewidth\":0,\"ticks\":\"\"}}],\"histogram2d\":[{\"type\":\"histogram2d\",\"colorbar\":{\"outlinewidth\":0,\"ticks\":\"\"},\"colorscale\":[[0.0,\"#0d0887\"],[0.1111111111111111,\"#46039f\"],[0.2222222222222222,\"#7201a8\"],[0.3333333333333333,\"#9c179e\"],[0.4444444444444444,\"#bd3786\"],[0.5555555555555556,\"#d8576b\"],[0.6666666666666666,\"#ed7953\"],[0.7777777777777778,\"#fb9f3a\"],[0.8888888888888888,\"#fdca26\"],[1.0,\"#f0f921\"]]}],\"heatmap\":[{\"type\":\"heatmap\",\"colorbar\":{\"outlinewidth\":0,\"ticks\":\"\"},\"colorscale\":[[0.0,\"#0d0887\"],[0.1111111111111111,\"#46039f\"],[0.2222222222222222,\"#7201a8\"],[0.3333333333333333,\"#9c179e\"],[0.4444444444444444,\"#bd3786\"],[0.5555555555555556,\"#d8576b\"],[0.6666666666666666,\"#ed7953\"],[0.7777777777777778,\"#fb9f3a\"],[0.8888888888888888,\"#fdca26\"],[1.0,\"#f0f921\"]]}],\"heatmapgl\":[{\"type\":\"heatmapgl\",\"colorbar\":{\"outlinewidth\":0,\"ticks\":\"\"},\"colorscale\":[[0.0,\"#0d0887\"],[0.1111111111111111,\"#46039f\"],[0.2222222222222222,\"#7201a8\"],[0.3333333333333333,\"#9c179e\"],[0.4444444444444444,\"#bd3786\"],[0.5555555555555556,\"#d8576b\"],[0.6666666666666666,\"#ed7953\"],[0.7777777777777778,\"#fb9f3a\"],[0.8888888888888888,\"#fdca26\"],[1.0,\"#f0f921\"]]}],\"contourcarpet\":[{\"type\":\"contourcarpet\",\"colorbar\":{\"outlinewidth\":0,\"ticks\":\"\"}}],\"contour\":[{\"type\":\"contour\",\"colorbar\":{\"outlinewidth\":0,\"ticks\":\"\"},\"colorscale\":[[0.0,\"#0d0887\"],[0.1111111111111111,\"#46039f\"],[0.2222222222222222,\"#7201a8\"],[0.3333333333333333,\"#9c179e\"],[0.4444444444444444,\"#bd3786\"],[0.5555555555555556,\"#d8576b\"],[0.6666666666666666,\"#ed7953\"],[0.7777777777777778,\"#fb9f3a\"],[0.8888888888888888,\"#fdca26\"],[1.0,\"#f0f921\"]]}],\"surface\":[{\"type\":\"surface\",\"colorbar\":{\"outlinewidth\":0,\"ticks\":\"\"},\"colorscale\":[[0.0,\"#0d0887\"],[0.1111111111111111,\"#46039f\"],[0.2222222222222222,\"#7201a8\"],[0.3333333333333333,\"#9c179e\"],[0.4444444444444444,\"#bd3786\"],[0.5555555555555556,\"#d8576b\"],[0.6666666666666666,\"#ed7953\"],[0.7777777777777778,\"#fb9f3a\"],[0.8888888888888888,\"#fdca26\"],[1.0,\"#f0f921\"]]}],\"mesh3d\":[{\"type\":\"mesh3d\",\"colorbar\":{\"outlinewidth\":0,\"ticks\":\"\"}}],\"scatter\":[{\"fillpattern\":{\"fillmode\":\"overlay\",\"size\":10,\"solidity\":0.2},\"type\":\"scatter\"}],\"parcoords\":[{\"type\":\"parcoords\",\"line\":{\"colorbar\":{\"outlinewidth\":0,\"ticks\":\"\"}}}],\"scatterpolargl\":[{\"type\":\"scatterpolargl\",\"marker\":{\"colorbar\":{\"outlinewidth\":0,\"ticks\":\"\"}}}],\"bar\":[{\"error_x\":{\"color\":\"#2a3f5f\"},\"error_y\":{\"color\":\"#2a3f5f\"},\"marker\":{\"line\":{\"color\":\"#E5ECF6\",\"width\":0.5},\"pattern\":{\"fillmode\":\"overlay\",\"size\":10,\"solidity\":0.2}},\"type\":\"bar\"}],\"scattergeo\":[{\"type\":\"scattergeo\",\"marker\":{\"colorbar\":{\"outlinewidth\":0,\"ticks\":\"\"}}}],\"scatterpolar\":[{\"type\":\"scatterpolar\",\"marker\":{\"colorbar\":{\"outlinewidth\":0,\"ticks\":\"\"}}}],\"histogram\":[{\"marker\":{\"pattern\":{\"fillmode\":\"overlay\",\"size\":10,\"solidity\":0.2}},\"type\":\"histogram\"}],\"scattergl\":[{\"type\":\"scattergl\",\"marker\":{\"colorbar\":{\"outlinewidth\":0,\"ticks\":\"\"}}}],\"scatter3d\":[{\"type\":\"scatter3d\",\"line\":{\"colorbar\":{\"outlinewidth\":0,\"ticks\":\"\"}},\"marker\":{\"colorbar\":{\"outlinewidth\":0,\"ticks\":\"\"}}}],\"scattermapbox\":[{\"type\":\"scattermapbox\",\"marker\":{\"colorbar\":{\"outlinewidth\":0,\"ticks\":\"\"}}}],\"scatterternary\":[{\"type\":\"scatterternary\",\"marker\":{\"colorbar\":{\"outlinewidth\":0,\"ticks\":\"\"}}}],\"scattercarpet\":[{\"type\":\"scattercarpet\",\"marker\":{\"colorbar\":{\"outlinewidth\":0,\"ticks\":\"\"}}}],\"carpet\":[{\"aaxis\":{\"endlinecolor\":\"#2a3f5f\",\"gridcolor\":\"white\",\"linecolor\":\"white\",\"minorgridcolor\":\"white\",\"startlinecolor\":\"#2a3f5f\"},\"baxis\":{\"endlinecolor\":\"#2a3f5f\",\"gridcolor\":\"white\",\"linecolor\":\"white\",\"minorgridcolor\":\"white\",\"startlinecolor\":\"#2a3f5f\"},\"type\":\"carpet\"}],\"table\":[{\"cells\":{\"fill\":{\"color\":\"#EBF0F8\"},\"line\":{\"color\":\"white\"}},\"header\":{\"fill\":{\"color\":\"#C8D4E3\"},\"line\":{\"color\":\"white\"}},\"type\":\"table\"}],\"barpolar\":[{\"marker\":{\"line\":{\"color\":\"#E5ECF6\",\"width\":0.5},\"pattern\":{\"fillmode\":\"overlay\",\"size\":10,\"solidity\":0.2}},\"type\":\"barpolar\"}],\"pie\":[{\"automargin\":true,\"type\":\"pie\"}]},\"layout\":{\"autotypenumbers\":\"strict\",\"colorway\":[\"#636efa\",\"#EF553B\",\"#00cc96\",\"#ab63fa\",\"#FFA15A\",\"#19d3f3\",\"#FF6692\",\"#B6E880\",\"#FF97FF\",\"#FECB52\"],\"font\":{\"color\":\"#2a3f5f\"},\"hovermode\":\"closest\",\"hoverlabel\":{\"align\":\"left\"},\"paper_bgcolor\":\"white\",\"plot_bgcolor\":\"#E5ECF6\",\"polar\":{\"bgcolor\":\"#E5ECF6\",\"angularaxis\":{\"gridcolor\":\"white\",\"linecolor\":\"white\",\"ticks\":\"\"},\"radialaxis\":{\"gridcolor\":\"white\",\"linecolor\":\"white\",\"ticks\":\"\"}},\"ternary\":{\"bgcolor\":\"#E5ECF6\",\"aaxis\":{\"gridcolor\":\"white\",\"linecolor\":\"white\",\"ticks\":\"\"},\"baxis\":{\"gridcolor\":\"white\",\"linecolor\":\"white\",\"ticks\":\"\"},\"caxis\":{\"gridcolor\":\"white\",\"linecolor\":\"white\",\"ticks\":\"\"}},\"coloraxis\":{\"colorbar\":{\"outlinewidth\":0,\"ticks\":\"\"}},\"colorscale\":{\"sequential\":[[0.0,\"#0d0887\"],[0.1111111111111111,\"#46039f\"],[0.2222222222222222,\"#7201a8\"],[0.3333333333333333,\"#9c179e\"],[0.4444444444444444,\"#bd3786\"],[0.5555555555555556,\"#d8576b\"],[0.6666666666666666,\"#ed7953\"],[0.7777777777777778,\"#fb9f3a\"],[0.8888888888888888,\"#fdca26\"],[1.0,\"#f0f921\"]],\"sequentialminus\":[[0.0,\"#0d0887\"],[0.1111111111111111,\"#46039f\"],[0.2222222222222222,\"#7201a8\"],[0.3333333333333333,\"#9c179e\"],[0.4444444444444444,\"#bd3786\"],[0.5555555555555556,\"#d8576b\"],[0.6666666666666666,\"#ed7953\"],[0.7777777777777778,\"#fb9f3a\"],[0.8888888888888888,\"#fdca26\"],[1.0,\"#f0f921\"]],\"diverging\":[[0,\"#8e0152\"],[0.1,\"#c51b7d\"],[0.2,\"#de77ae\"],[0.3,\"#f1b6da\"],[0.4,\"#fde0ef\"],[0.5,\"#f7f7f7\"],[0.6,\"#e6f5d0\"],[0.7,\"#b8e186\"],[0.8,\"#7fbc41\"],[0.9,\"#4d9221\"],[1,\"#276419\"]]},\"xaxis\":{\"gridcolor\":\"white\",\"linecolor\":\"white\",\"ticks\":\"\",\"title\":{\"standoff\":15},\"zerolinecolor\":\"white\",\"automargin\":true,\"zerolinewidth\":2},\"yaxis\":{\"gridcolor\":\"white\",\"linecolor\":\"white\",\"ticks\":\"\",\"title\":{\"standoff\":15},\"zerolinecolor\":\"white\",\"automargin\":true,\"zerolinewidth\":2},\"scene\":{\"xaxis\":{\"backgroundcolor\":\"#E5ECF6\",\"gridcolor\":\"white\",\"linecolor\":\"white\",\"showbackground\":true,\"ticks\":\"\",\"zerolinecolor\":\"white\",\"gridwidth\":2},\"yaxis\":{\"backgroundcolor\":\"#E5ECF6\",\"gridcolor\":\"white\",\"linecolor\":\"white\",\"showbackground\":true,\"ticks\":\"\",\"zerolinecolor\":\"white\",\"gridwidth\":2},\"zaxis\":{\"backgroundcolor\":\"#E5ECF6\",\"gridcolor\":\"white\",\"linecolor\":\"white\",\"showbackground\":true,\"ticks\":\"\",\"zerolinecolor\":\"white\",\"gridwidth\":2}},\"shapedefaults\":{\"line\":{\"color\":\"#2a3f5f\"}},\"annotationdefaults\":{\"arrowcolor\":\"#2a3f5f\",\"arrowhead\":0,\"arrowwidth\":1},\"geo\":{\"bgcolor\":\"white\",\"landcolor\":\"#E5ECF6\",\"subunitcolor\":\"white\",\"showland\":true,\"showlakes\":true,\"lakecolor\":\"white\"},\"title\":{\"x\":0.05},\"mapbox\":{\"style\":\"light\"}}},\"xaxis\":{\"anchor\":\"y\",\"domain\":[0.0,1.0],\"title\":{\"text\":\"\\nAvg. Annual Salary\"},\"range\":[5000,150000],\"dtick\":10000},\"yaxis\":{\"anchor\":\"x\",\"domain\":[0.0,1.0],\"title\":{\"text\":\"\"},\"categoryorder\":\"array\",\"categoryarray\":[\"Part-time\",\"Freelancer\",\"Contractual\",\"Full-time\"]},\"legend\":{\"title\":{\"text\":\"employment_type\"},\"tracegroupgap\":0,\"itemsizing\":\"constant\"},\"margin\":{\"t\":60},\"title\":{\"font\":{\"size\":22},\"text\":\"Job Type and Average Salary\"},\"width\":800,\"height\":400},                        {\"responsive\": true}                    ).then(function(){\n",
       "                            \n",
       "var gd = document.getElementById('35b768b6-16ef-4c6b-9496-e18e8492708a');\n",
       "var x = new MutationObserver(function (mutations, observer) {{\n",
       "        var display = window.getComputedStyle(gd).display;\n",
       "        if (!display || display === 'none') {{\n",
       "            console.log([gd, 'removed!']);\n",
       "            Plotly.purge(gd);\n",
       "            observer.disconnect();\n",
       "        }}\n",
       "}});\n",
       "\n",
       "// Listen for the removal of the full notebook cells\n",
       "var notebookContainer = gd.closest('#notebook-container');\n",
       "if (notebookContainer) {{\n",
       "    x.observe(notebookContainer, {childList: true});\n",
       "}}\n",
       "\n",
       "// Listen for the clearing of the current output cell\n",
       "var outputEl = gd.closest('.output');\n",
       "if (outputEl) {{\n",
       "    x.observe(outputEl, {childList: true});\n",
       "}}\n",
       "\n",
       "                        })                };                });            </script>        </div>"
      ]
     },
     "metadata": {},
     "output_type": "display_data"
    }
   ],
   "source": [
    "import plotly.express as px\n",
    "\n",
    "fig = px.scatter(job_type, x=\"salary_in_usd\", y=None,\n",
    "                 size=\"salary_in_usd\", color=job_type.index,\n",
    "                 size_max=60)\n",
    "\n",
    "fig.update_layout(yaxis=dict(title=''), xaxis=dict(title='\\nAvg. Annual Salary'), title={'text':'Job Type and Average Salary', 'font':{'size':22}})\n",
    "fig.update_xaxes(range=[5000, 150000], dtick=10000)\n",
    "fig.update_layout(width=800, height=400)\n",
    "\n",
    "fig.show()"
   ]
  },
  {
   "cell_type": "markdown",
   "id": "de550c0d",
   "metadata": {
    "papermill": {
     "duration": 0.014633,
     "end_time": "2023-05-15T08:39:42.977830",
     "exception": false,
     "start_time": "2023-05-15T08:39:42.963197",
     "status": "completed"
    },
    "tags": []
   },
   "source": [
    "### Salary range according to company size"
   ]
  },
  {
   "cell_type": "code",
   "execution_count": 15,
   "id": "c0a67c59",
   "metadata": {
    "_kg_hide-input": true,
    "execution": {
     "iopub.execute_input": "2023-05-15T08:39:43.009165Z",
     "iopub.status.busy": "2023-05-15T08:39:43.008761Z",
     "iopub.status.idle": "2023-05-15T08:39:43.748455Z",
     "shell.execute_reply": "2023-05-15T08:39:43.747615Z"
    },
    "papermill": {
     "duration": 0.757608,
     "end_time": "2023-05-15T08:39:43.750267",
     "exception": false,
     "start_time": "2023-05-15T08:39:42.992659",
     "status": "completed"
    },
    "tags": []
   },
   "outputs": [
    {
     "data": {
      "text/plain": [
       "<Figure size 800x400 with 0 Axes>"
      ]
     },
     "metadata": {},
     "output_type": "display_data"
    },
    {
     "data": {
      "image/png": "[encoded data removed]",
      "text/plain": [
       "<Figure size 1500x500 with 3 Axes>"
      ]
     },
     "metadata": {},
     "output_type": "display_data"
    }
   ],
   "source": [
    "plt.figure(figsize=(8,4))\n",
    "\n",
    "ax = sns.catplot(data=df, x='salary_in_usd',  col='company_size', kind='boxen', color=\"teal\")\n",
    "\n",
    "ax.set_xlabels(\"\\nSalary\", fontsize =16)\n",
    "plt.xticks(range(0,500000,100000));\n"
   ]
  },
  {
   "cell_type": "code",
   "execution_count": 16,
   "id": "b5ed0c00",
   "metadata": {
    "_kg_hide-input": true,
    "execution": {
     "iopub.execute_input": "2023-05-15T08:39:43.781945Z",
     "iopub.status.busy": "2023-05-15T08:39:43.781576Z",
     "iopub.status.idle": "2023-05-15T08:39:43.794445Z",
     "shell.execute_reply": "2023-05-15T08:39:43.793330Z"
    },
    "papermill": {
     "duration": 0.031013,
     "end_time": "2023-05-15T08:39:43.796438",
     "exception": false,
     "start_time": "2023-05-15T08:39:43.765425",
     "status": "completed"
    },
    "tags": []
   },
   "outputs": [
    {
     "name": "stdout",
     "output_type": "stream",
     "text": [
      "Salary according to company size \n",
      "\n"
     ]
    },
    {
     "data": {
      "text/html": [
       "<div>\n",
       "<style scoped>\n",
       "    .dataframe tbody tr th:only-of-type {\n",
       "        vertical-align: middle;\n",
       "    }\n",
       "\n",
       "    .dataframe tbody tr th {\n",
       "        vertical-align: top;\n",
       "    }\n",
       "\n",
       "    .dataframe thead th {\n",
       "        text-align: right;\n",
       "    }\n",
       "</style>\n",
       "<table border=\"1\" class=\"dataframe\">\n",
       "  <thead>\n",
       "    <tr style=\"text-align: right;\">\n",
       "      <th></th>\n",
       "      <th>salary_in_usd</th>\n",
       "    </tr>\n",
       "    <tr>\n",
       "      <th>company_size</th>\n",
       "      <th></th>\n",
       "    </tr>\n",
       "  </thead>\n",
       "  <tbody>\n",
       "    <tr>\n",
       "      <th>L</th>\n",
       "      <td>113202.24</td>\n",
       "    </tr>\n",
       "    <tr>\n",
       "      <th>M</th>\n",
       "      <td>141474.51</td>\n",
       "    </tr>\n",
       "    <tr>\n",
       "      <th>S</th>\n",
       "      <td>78364.28</td>\n",
       "    </tr>\n",
       "  </tbody>\n",
       "</table>\n",
       "</div>"
      ],
      "text/plain": [
       "              salary_in_usd\n",
       "company_size               \n",
       "L                 113202.24\n",
       "M                 141474.51\n",
       "S                  78364.28"
      ]
     },
     "execution_count": 16,
     "metadata": {},
     "output_type": "execute_result"
    }
   ],
   "source": [
    "print(\"Salary according to company size \\n\")\n",
    "round(df.groupby('company_size').agg({'salary_in_usd':'mean'}),2)"
   ]
  },
  {
   "cell_type": "code",
   "execution_count": 17,
   "id": "5cf878fe",
   "metadata": {
    "execution": {
     "iopub.execute_input": "2023-05-15T08:39:43.828166Z",
     "iopub.status.busy": "2023-05-15T08:39:43.827639Z",
     "iopub.status.idle": "2023-05-15T08:39:43.833314Z",
     "shell.execute_reply": "2023-05-15T08:39:43.831794Z"
    },
    "papermill": {
     "duration": 0.023736,
     "end_time": "2023-05-15T08:39:43.835237",
     "exception": false,
     "start_time": "2023-05-15T08:39:43.811501",
     "status": "completed"
    },
    "tags": []
   },
   "outputs": [
    {
     "name": "stdout",
     "output_type": "stream",
     "text": [
      "Minimum salary: $ 5132 \n",
      "Average salary: $ 133409.28 \n",
      "Maximum salary: $ 450000\n"
     ]
    }
   ],
   "source": [
    "print(\"Minimum salary: $\", df.salary_in_usd.min(),\"\\nAverage salary: $\", round(df.salary_in_usd.mean(),2), \"\\nMaximum salary: $\", df.salary_in_usd.max()) "
   ]
  },
  {
   "cell_type": "markdown",
   "id": "e28fd475",
   "metadata": {
    "papermill": {
     "duration": 0.014854,
     "end_time": "2023-05-15T08:39:43.865267",
     "exception": false,
     "start_time": "2023-05-15T08:39:43.850413",
     "status": "completed"
    },
    "tags": []
   },
   "source": [
    "### Which work mode is more prevalent: on-site, remote, or hybrid?"
   ]
  },
  {
   "cell_type": "code",
   "execution_count": 18,
   "id": "6f18f051",
   "metadata": {
    "_kg_hide-input": true,
    "execution": {
     "iopub.execute_input": "2023-05-15T08:39:43.897831Z",
     "iopub.status.busy": "2023-05-15T08:39:43.897482Z",
     "iopub.status.idle": "2023-05-15T08:39:44.015267Z",
     "shell.execute_reply": "2023-05-15T08:39:44.014557Z"
    },
    "papermill": {
     "duration": 0.136421,
     "end_time": "2023-05-15T08:39:44.017169",
     "exception": false,
     "start_time": "2023-05-15T08:39:43.880748",
     "status": "completed"
    },
    "tags": []
   },
   "outputs": [
    {
     "data": {
      "text/plain": [
       "Text(0.5, 1.0, 'Work Mode\\n')"
      ]
     },
     "execution_count": 18,
     "metadata": {},
     "output_type": "execute_result"
    },
    {
     "data": {
      "image/png": "[encoded data removed]",
      "text/plain": [
       "<Figure size 400x600 with 1 Axes>"
      ]
     },
     "metadata": {},
     "output_type": "display_data"
    }
   ],
   "source": [
    "plt.figure(figsize=(4,6))\n",
    "colors = sns.color_palette('Set2')[0:3]\n",
    "\n",
    "values = df.groupby('remote_ratio').size()\n",
    "labels = values.index\n",
    "#round(values/values.sum()*100, 2)\n",
    "\n",
    "plt.pie(values, labels=labels, autopct='%1.2f%%', \n",
    "             startangle=60, textprops={'fontsize': 11, 'fontweight':\"bold\"},\n",
    "             colors = colors)\n",
    "plt.title(\"Work Mode\\n\", fontsize=16, fontweight=\"bold\")\n"
   ]
  },
  {
   "cell_type": "markdown",
   "id": "0c51485e",
   "metadata": {
    "papermill": {
     "duration": 0.021445,
     "end_time": "2023-05-15T08:39:44.060677",
     "exception": false,
     "start_time": "2023-05-15T08:39:44.039232",
     "status": "completed"
    },
    "tags": []
   },
   "source": [
    "### Country mapping"
   ]
  },
  {
   "cell_type": "code",
   "execution_count": 19,
   "id": "f110d0b0",
   "metadata": {
    "_kg_hide-input": true,
    "_kg_hide-output": true,
    "execution": {
     "iopub.execute_input": "2023-05-15T08:39:44.104080Z",
     "iopub.status.busy": "2023-05-15T08:39:44.103493Z",
     "iopub.status.idle": "2023-05-15T08:40:09.326676Z",
     "shell.execute_reply": "2023-05-15T08:40:09.325301Z"
    },
    "papermill": {
     "duration": 25.247473,
     "end_time": "2023-05-15T08:40:09.329141",
     "exception": false,
     "start_time": "2023-05-15T08:39:44.081668",
     "status": "completed"
    },
    "tags": []
   },
   "outputs": [
    {
     "name": "stdout",
     "output_type": "stream",
     "text": [
      "Collecting pycountry\r\n",
      "  Downloading pycountry-22.3.5.tar.gz (10.1 MB)\r\n",
      "\u001b[2K     \u001b[90m━━━━━━━━━━━━━━━━━━━━━━━━━━━━━━━━━━━━━━━━\u001b[0m \u001b[32m10.1/10.1 MB\u001b[0m \u001b[31m80.5 MB/s\u001b[0m eta \u001b[36m0:00:00\u001b[0m\r\n",
      "\u001b[?25h  Installing build dependencies ... \u001b[?25l-\b \b\\\b \b|\b \b/\b \b-\b \bdone\r\n",
      "\u001b[?25h  Getting requirements to build wheel ... \u001b[?25l-\b \bdone\r\n",
      "\u001b[?25h  Preparing metadata (pyproject.toml) ... \u001b[?25l-\b \bdone\r\n",
      "\u001b[?25hRequirement already satisfied: setuptools in /opt/conda/lib/python3.10/site-packages (from pycountry) (59.8.0)\r\n",
      "Building wheels for collected packages: pycountry\r\n",
      "  Building wheel for pycountry (pyproject.toml) ... \u001b[?25l-\b \b\\\b \b|\b \b/\b \b-\b \b\\\b \b|\b \b/\b \b-\b \b\\\b \b|\b \b/\b \b-\b \b\\\b \b|\b \b/\b \b-\b \b\\\b \b|\b \b/\b \b-\b \b\\\b \b|\b \bdone\r\n",
      "\u001b[?25h  Created wheel for pycountry: filename=pycountry-22.3.5-py2.py3-none-any.whl size=10681832 sha256=5967f49c7c37a3c2042dbdcd4bd5ce30a56781c3a299ef243b5e97a7a64c837a\r\n",
      "  Stored in directory: /root/.cache/pip/wheels/03/57/cc/290c5252ec97a6d78d36479a3c5e5ecc76318afcb241ad9dbe\r\n",
      "Successfully built pycountry\r\n",
      "Installing collected packages: pycountry\r\n",
      "Successfully installed pycountry-22.3.5\r\n",
      "\u001b[33mWARNING: Running pip as the 'root' user can result in broken permissions and conflicting behaviour with the system package manager. It is recommended to use a virtual environment instead: https://pip.pypa.io/warnings/venv\u001b[0m\u001b[33m\r\n",
      "\u001b[0m"
     ]
    }
   ],
   "source": [
    "!pip install pycountry\n",
    "\n",
    "import pycountry\n",
    "\n",
    "country_map = {}\n",
    "\n",
    "for country in pycountry.countries:\n",
    "    country_map[country.alpha_2] = country.name\n",
    "\n",
    "df['company_location'] = df['company_location'].replace(country_map)\n",
    "df['employee_residence'] = df['employee_residence'].replace(country_map)"
   ]
  },
  {
   "cell_type": "code",
   "execution_count": 20,
   "id": "277a9df1",
   "metadata": {
    "_kg_hide-input": true,
    "execution": {
     "iopub.execute_input": "2023-05-15T08:40:09.367692Z",
     "iopub.status.busy": "2023-05-15T08:40:09.367313Z",
     "iopub.status.idle": "2023-05-15T08:40:20.215327Z",
     "shell.execute_reply": "2023-05-15T08:40:20.214165Z"
    },
    "papermill": {
     "duration": 10.870284,
     "end_time": "2023-05-15T08:40:20.217762",
     "exception": false,
     "start_time": "2023-05-15T08:40:09.347478",
     "status": "completed"
    },
    "tags": []
   },
   "outputs": [
    {
     "name": "stdout",
     "output_type": "stream",
     "text": [
      "Requirement already satisfied: geopandas in /opt/conda/lib/python3.10/site-packages (0.12.2)\r\n",
      "Requirement already satisfied: shapely>=1.7 in /opt/conda/lib/python3.10/site-packages (from geopandas) (1.8.5.post1)\r\n",
      "Requirement already satisfied: pandas>=1.0.0 in /opt/conda/lib/python3.10/site-packages (from geopandas) (1.5.3)\r\n",
      "Requirement already satisfied: packaging in /opt/conda/lib/python3.10/site-packages (from geopandas) (21.3)\r\n",
      "Requirement already satisfied: fiona>=1.8 in /opt/conda/lib/python3.10/site-packages (from geopandas) (1.8.22)\r\n",
      "Requirement already satisfied: pyproj>=2.6.1.post1 in /opt/conda/lib/python3.10/site-packages (from geopandas) (3.5.0)\r\n",
      "Requirement already satisfied: munch in /opt/conda/lib/python3.10/site-packages (from fiona>=1.8->geopandas) (2.5.0)\r\n",
      "Requirement already satisfied: certifi in /opt/conda/lib/python3.10/site-packages (from fiona>=1.8->geopandas) (2022.12.7)\r\n",
      "Requirement already satisfied: setuptools in /opt/conda/lib/python3.10/site-packages (from fiona>=1.8->geopandas) (59.8.0)\r\n",
      "Requirement already satisfied: attrs>=17 in /opt/conda/lib/python3.10/site-packages (from fiona>=1.8->geopandas) (22.2.0)\r\n",
      "Requirement already satisfied: click>=4.0 in /opt/conda/lib/python3.10/site-packages (from fiona>=1.8->geopandas) (8.1.3)\r\n",
      "Requirement already satisfied: cligj>=0.5 in /opt/conda/lib/python3.10/site-packages (from fiona>=1.8->geopandas) (0.7.2)\r\n",
      "Requirement already satisfied: click-plugins>=1.0 in /opt/conda/lib/python3.10/site-packages (from fiona>=1.8->geopandas) (1.1.1)\r\n",
      "Requirement already satisfied: six>=1.7 in /opt/conda/lib/python3.10/site-packages (from fiona>=1.8->geopandas) (1.16.0)\r\n",
      "Requirement already satisfied: pytz>=2020.1 in /opt/conda/lib/python3.10/site-packages (from pandas>=1.0.0->geopandas) (2023.3)\r\n",
      "Requirement already satisfied: numpy>=1.21.0 in /opt/conda/lib/python3.10/site-packages (from pandas>=1.0.0->geopandas) (1.23.5)\r\n",
      "Requirement already satisfied: python-dateutil>=2.8.1 in /opt/conda/lib/python3.10/site-packages (from pandas>=1.0.0->geopandas) (2.8.2)\r\n",
      "Requirement already satisfied: pyparsing!=3.0.5,>=2.0.2 in /opt/conda/lib/python3.10/site-packages (from packaging->geopandas) (3.0.9)\r\n",
      "\u001b[33mWARNING: Running pip as the 'root' user can result in broken permissions and conflicting behaviour with the system package manager. It is recommended to use a virtual environment instead: https://pip.pypa.io/warnings/venv\u001b[0m\u001b[33m\r\n",
      "\u001b[0m"
     ]
    },
    {
     "data": {
      "text/plain": [
       "<AxesSubplot: >"
      ]
     },
     "execution_count": 20,
     "metadata": {},
     "output_type": "execute_result"
    },
    {
     "data": {
      "image/png": "[encoded data removed]",
      "text/plain": [
       "<Figure size 1000x600 with 1 Axes>"
      ]
     },
     "metadata": {},
     "output_type": "display_data"
    }
   ],
   "source": [
    "!pip install geopandas\n",
    "import geopandas as gpd\n",
    "\n",
    "fig, ax = plt.subplots(figsize=(10,6))\n",
    "\n",
    "world = gpd.read_file(gpd.datasets.get_path('naturalearth_lowres'))\n",
    "merged = world.merge(df, left_on = 'name', right_on ='company_location')\n",
    "\n",
    "merged.plot(column='remote_ratio', cmap='Paired', linewidth=0.5, ax=ax, edgecolor='black', legend = True)\n",
    "\n"
   ]
  },
  {
   "cell_type": "code",
   "execution_count": 21,
   "id": "013ea32a",
   "metadata": {
    "_kg_hide-input": true,
    "execution": {
     "iopub.execute_input": "2023-05-15T08:40:20.260785Z",
     "iopub.status.busy": "2023-05-15T08:40:20.259503Z",
     "iopub.status.idle": "2023-05-15T08:40:20.292645Z",
     "shell.execute_reply": "2023-05-15T08:40:20.291522Z"
    },
    "papermill": {
     "duration": 0.057281,
     "end_time": "2023-05-15T08:40:20.294787",
     "exception": false,
     "start_time": "2023-05-15T08:40:20.237506",
     "status": "completed"
    },
    "tags": []
   },
   "outputs": [
    {
     "data": {
      "text/html": [
       "<div>\n",
       "<style scoped>\n",
       "    .dataframe tbody tr th:only-of-type {\n",
       "        vertical-align: middle;\n",
       "    }\n",
       "\n",
       "    .dataframe tbody tr th {\n",
       "        vertical-align: top;\n",
       "    }\n",
       "\n",
       "    .dataframe thead th {\n",
       "        text-align: right;\n",
       "    }\n",
       "</style>\n",
       "<table border=\"1\" class=\"dataframe\">\n",
       "  <thead>\n",
       "    <tr style=\"text-align: right;\">\n",
       "      <th>remote_ratio</th>\n",
       "      <th>Hybrid</th>\n",
       "      <th>On-site</th>\n",
       "      <th>Remote</th>\n",
       "    </tr>\n",
       "    <tr>\n",
       "      <th>company_location</th>\n",
       "      <th></th>\n",
       "      <th></th>\n",
       "      <th></th>\n",
       "    </tr>\n",
       "  </thead>\n",
       "  <tbody>\n",
       "    <tr>\n",
       "      <th>United States</th>\n",
       "      <td>39</td>\n",
       "      <td>917</td>\n",
       "      <td>973</td>\n",
       "    </tr>\n",
       "    <tr>\n",
       "      <th>United Kingdom</th>\n",
       "      <td>17</td>\n",
       "      <td>55</td>\n",
       "      <td>83</td>\n",
       "    </tr>\n",
       "    <tr>\n",
       "      <th>Canada</th>\n",
       "      <td>12</td>\n",
       "      <td>44</td>\n",
       "      <td>27</td>\n",
       "    </tr>\n",
       "    <tr>\n",
       "      <th>Spain</th>\n",
       "      <td>5</td>\n",
       "      <td>21</td>\n",
       "      <td>18</td>\n",
       "    </tr>\n",
       "    <tr>\n",
       "      <th>Germany</th>\n",
       "      <td>14</td>\n",
       "      <td>25</td>\n",
       "      <td>16</td>\n",
       "    </tr>\n",
       "    <tr>\n",
       "      <th>India</th>\n",
       "      <td>20</td>\n",
       "      <td>29</td>\n",
       "      <td>8</td>\n",
       "    </tr>\n",
       "    <tr>\n",
       "      <th>Portugal</th>\n",
       "      <td>3</td>\n",
       "      <td>4</td>\n",
       "      <td>7</td>\n",
       "    </tr>\n",
       "    <tr>\n",
       "      <th>Ireland</th>\n",
       "      <td>0</td>\n",
       "      <td>3</td>\n",
       "      <td>4</td>\n",
       "    </tr>\n",
       "    <tr>\n",
       "      <th>Latvia</th>\n",
       "      <td>0</td>\n",
       "      <td>0</td>\n",
       "      <td>4</td>\n",
       "    </tr>\n",
       "    <tr>\n",
       "      <th>Netherlands</th>\n",
       "      <td>3</td>\n",
       "      <td>6</td>\n",
       "      <td>4</td>\n",
       "    </tr>\n",
       "  </tbody>\n",
       "</table>\n",
       "</div>"
      ],
      "text/plain": [
       "remote_ratio      Hybrid  On-site  Remote\n",
       "company_location                         \n",
       "United States         39      917     973\n",
       "United Kingdom        17       55      83\n",
       "Canada                12       44      27\n",
       "Spain                  5       21      18\n",
       "Germany               14       25      16\n",
       "India                 20       29       8\n",
       "Portugal               3        4       7\n",
       "Ireland                0        3       4\n",
       "Latvia                 0        0       4\n",
       "Netherlands            3        6       4"
      ]
     },
     "execution_count": 21,
     "metadata": {},
     "output_type": "execute_result"
    }
   ],
   "source": [
    "df_pivot = df.groupby(['company_location', 'remote_ratio']).size().reset_index(name=\"count\")\n",
    "df_pivot = df_pivot.pivot_table(index='company_location', columns='remote_ratio', values='count', fill_value=0)\n",
    "df_pivot.sort_values('Remote', ascending=False).head(10)"
   ]
  },
  {
   "cell_type": "code",
   "execution_count": 22,
   "id": "6ec74864",
   "metadata": {
    "execution": {
     "iopub.execute_input": "2023-05-15T08:40:20.337720Z",
     "iopub.status.busy": "2023-05-15T08:40:20.337053Z",
     "iopub.status.idle": "2023-05-15T08:40:20.345429Z",
     "shell.execute_reply": "2023-05-15T08:40:20.343531Z"
    },
    "papermill": {
     "duration": 0.032583,
     "end_time": "2023-05-15T08:40:20.347990",
     "exception": false,
     "start_time": "2023-05-15T08:40:20.315407",
     "status": "completed"
    },
    "tags": []
   },
   "outputs": [
    {
     "name": "stdout",
     "output_type": "stream",
     "text": [
      "There are 72 company locations in the dataset. 74.65 % companies are located in the United States.\n",
      "\n"
     ]
    }
   ],
   "source": [
    "us_job_prcnt = round(df.company_location[df.company_location=='United States'].count()/df.company_location.count() *100,2)\n",
    "\n",
    "print(\"There are 72 company locations in the dataset.\", us_job_prcnt, \"% companies are located in the United States.\\n\")"
   ]
  },
  {
   "cell_type": "markdown",
   "id": "351f949d",
   "metadata": {
    "papermill": {
     "duration": 0.019478,
     "end_time": "2023-05-15T08:40:20.387412",
     "exception": false,
     "start_time": "2023-05-15T08:40:20.367934",
     "status": "completed"
    },
    "tags": []
   },
   "source": [
    "## 4. Linear regression - Predict success factors for higher salary"
   ]
  },
  {
   "cell_type": "markdown",
   "id": "4fe6067f",
   "metadata": {
    "papermill": {
     "duration": 0.019388,
     "end_time": "2023-05-15T08:40:20.426711",
     "exception": false,
     "start_time": "2023-05-15T08:40:20.407323",
     "status": "completed"
    },
    "tags": []
   },
   "source": [
    "### Prepare data for regression\n",
    "\n",
    "- Remove outliers from the dataset using IQR method.\n",
    "\n",
    "- One of the key assumptions of linear regression is that the outcome variable is normally distributed. If the outcome variable is not normally distributed, it can lead to biased or inefficient estimates of the regression coefficients and inflated standard errors. To make non-normal values normal, transform the outcome variable (eg. log transformation, Box-Cox).\n",
    "\n",
    "- Scale the outcome variable.\n",
    "\n",
    "- Split data to create training, validation, and test sets\n"
   ]
  },
  {
   "cell_type": "code",
   "execution_count": 23,
   "id": "458ff2a7",
   "metadata": {
    "execution": {
     "iopub.execute_input": "2023-05-15T08:40:20.468081Z",
     "iopub.status.busy": "2023-05-15T08:40:20.467448Z",
     "iopub.status.idle": "2023-05-15T08:40:20.475887Z",
     "shell.execute_reply": "2023-05-15T08:40:20.474876Z"
    },
    "papermill": {
     "duration": 0.031977,
     "end_time": "2023-05-15T08:40:20.478273",
     "exception": false,
     "start_time": "2023-05-15T08:40:20.446296",
     "status": "completed"
    },
    "tags": []
   },
   "outputs": [
    {
     "data": {
      "text/plain": [
       "(2584, 6)"
      ]
     },
     "execution_count": 23,
     "metadata": {},
     "output_type": "execute_result"
    }
   ],
   "source": [
    "#create copy of dataset\n",
    "\n",
    "df_copy = df\n",
    "\n",
    "#drop column that will not be considered a feature for LR model\n",
    "df_copy = df_copy.drop(['work_year','employee_residence','remote_ratio'], axis=1)\n",
    "df_copy.shape"
   ]
  },
  {
   "cell_type": "code",
   "execution_count": 24,
   "id": "e95824b1",
   "metadata": {
    "execution": {
     "iopub.execute_input": "2023-05-15T08:40:20.520922Z",
     "iopub.status.busy": "2023-05-15T08:40:20.520537Z",
     "iopub.status.idle": "2023-05-15T08:40:20.532666Z",
     "shell.execute_reply": "2023-05-15T08:40:20.531593Z"
    },
    "papermill": {
     "duration": 0.035595,
     "end_time": "2023-05-15T08:40:20.534610",
     "exception": false,
     "start_time": "2023-05-15T08:40:20.499015",
     "status": "completed"
    },
    "tags": []
   },
   "outputs": [
    {
     "data": {
      "text/plain": [
       "(2555, 6)"
      ]
     },
     "execution_count": 24,
     "metadata": {},
     "output_type": "execute_result"
    }
   ],
   "source": [
    "#Remove outliers\n",
    "Q1 = df_copy['salary_in_usd'].quantile(0.25)\n",
    "Q3 = df_copy['salary_in_usd'].quantile(0.75)\n",
    "IQR = Q3 - Q1\n",
    "df_copy = df_copy[~((df_copy['salary_in_usd']< (Q1 - 1.5 * IQR)) | (df_copy['salary_in_usd'] > (Q3 + 1.5 * IQR)))]\n",
    "df_copy.shape"
   ]
  },
  {
   "cell_type": "markdown",
   "id": "c1964eee",
   "metadata": {
    "papermill": {
     "duration": 0.020285,
     "end_time": "2023-05-15T08:40:20.575929",
     "exception": false,
     "start_time": "2023-05-15T08:40:20.555644",
     "status": "completed"
    },
    "tags": []
   },
   "source": [
    "### Split data into train (80%) and test (20%) sets"
   ]
  },
  {
   "cell_type": "code",
   "execution_count": 25,
   "id": "f35ceaf3",
   "metadata": {
    "execution": {
     "iopub.execute_input": "2023-05-15T08:40:20.619141Z",
     "iopub.status.busy": "2023-05-15T08:40:20.618482Z",
     "iopub.status.idle": "2023-05-15T08:40:20.630391Z",
     "shell.execute_reply": "2023-05-15T08:40:20.628970Z"
    },
    "papermill": {
     "duration": 0.036343,
     "end_time": "2023-05-15T08:40:20.632714",
     "exception": false,
     "start_time": "2023-05-15T08:40:20.596371",
     "status": "completed"
    },
    "tags": []
   },
   "outputs": [
    {
     "data": {
      "text/html": [
       "<div>\n",
       "<style scoped>\n",
       "    .dataframe tbody tr th:only-of-type {\n",
       "        vertical-align: middle;\n",
       "    }\n",
       "\n",
       "    .dataframe tbody tr th {\n",
       "        vertical-align: top;\n",
       "    }\n",
       "\n",
       "    .dataframe thead th {\n",
       "        text-align: right;\n",
       "    }\n",
       "</style>\n",
       "<table border=\"1\" class=\"dataframe\">\n",
       "  <thead>\n",
       "    <tr style=\"text-align: right;\">\n",
       "      <th></th>\n",
       "      <th>salary_in_usd</th>\n",
       "    </tr>\n",
       "  </thead>\n",
       "  <tbody>\n",
       "    <tr>\n",
       "      <th>0</th>\n",
       "      <td>85847</td>\n",
       "    </tr>\n",
       "    <tr>\n",
       "      <th>1</th>\n",
       "      <td>30000</td>\n",
       "    </tr>\n",
       "    <tr>\n",
       "      <th>2</th>\n",
       "      <td>25500</td>\n",
       "    </tr>\n",
       "    <tr>\n",
       "      <th>3</th>\n",
       "      <td>175000</td>\n",
       "    </tr>\n",
       "    <tr>\n",
       "      <th>4</th>\n",
       "      <td>120000</td>\n",
       "    </tr>\n",
       "  </tbody>\n",
       "</table>\n",
       "</div>"
      ],
      "text/plain": [
       "   salary_in_usd\n",
       "0          85847\n",
       "1          30000\n",
       "2          25500\n",
       "3         175000\n",
       "4         120000"
      ]
     },
     "execution_count": 25,
     "metadata": {},
     "output_type": "execute_result"
    }
   ],
   "source": [
    "categorical_vars = ['experience_level','job_title' ,'company_location','company_size','employment_type']\n",
    "numeric_vars = ['salary_in_usd']\n",
    "\n",
    "X = df_copy[categorical_vars]\n",
    "#X = df_copy[categorical_vars].copy().reset_index(drop=True)\n",
    "\n",
    "X.head()\n",
    "\n",
    "y = df_copy[numeric_vars]\n",
    "y.head()"
   ]
  },
  {
   "cell_type": "code",
   "execution_count": 26,
   "id": "7c51d9c3",
   "metadata": {
    "execution": {
     "iopub.execute_input": "2023-05-15T08:40:20.677456Z",
     "iopub.status.busy": "2023-05-15T08:40:20.677104Z",
     "iopub.status.idle": "2023-05-15T08:40:20.961465Z",
     "shell.execute_reply": "2023-05-15T08:40:20.959766Z"
    },
    "papermill": {
     "duration": 0.309402,
     "end_time": "2023-05-15T08:40:20.964060",
     "exception": false,
     "start_time": "2023-05-15T08:40:20.654658",
     "status": "completed"
    },
    "tags": []
   },
   "outputs": [],
   "source": [
    "from sklearn.model_selection import train_test_split\n",
    "\n",
    "X_train, X_test, y_train, y_test = train_test_split(X, y, test_size=0.2, random_state=0)\n"
   ]
  },
  {
   "cell_type": "markdown",
   "id": "8f1df104",
   "metadata": {
    "papermill": {
     "duration": 0.021096,
     "end_time": "2023-05-15T08:40:21.006465",
     "exception": false,
     "start_time": "2023-05-15T08:40:20.985369",
     "status": "completed"
    },
    "tags": []
   },
   "source": [
    "- Before the features are fed into the linear regression model, the categorical variables need to encoded into a binary version. This is done by preprocessing and one such method is One Hot Encoder. "
   ]
  },
  {
   "cell_type": "markdown",
   "id": "d72ceb2b",
   "metadata": {
    "papermill": {
     "duration": 0.02166,
     "end_time": "2023-05-15T08:40:21.049544",
     "exception": false,
     "start_time": "2023-05-15T08:40:21.027884",
     "status": "completed"
    },
    "tags": []
   },
   "source": [
    "### Preprocess"
   ]
  },
  {
   "cell_type": "markdown",
   "id": "d1f8f357",
   "metadata": {
    "papermill": {
     "duration": 0.020074,
     "end_time": "2023-05-15T08:40:21.090406",
     "exception": false,
     "start_time": "2023-05-15T08:40:21.070332",
     "status": "completed"
    },
    "tags": []
   },
   "source": [
    "#### Numerical column transformation"
   ]
  },
  {
   "cell_type": "code",
   "execution_count": 27,
   "id": "37f33d85",
   "metadata": {
    "execution": {
     "iopub.execute_input": "2023-05-15T08:40:21.136216Z",
     "iopub.status.busy": "2023-05-15T08:40:21.135409Z",
     "iopub.status.idle": "2023-05-15T08:40:21.140549Z",
     "shell.execute_reply": "2023-05-15T08:40:21.139425Z"
    },
    "papermill": {
     "duration": 0.03036,
     "end_time": "2023-05-15T08:40:21.142570",
     "exception": false,
     "start_time": "2023-05-15T08:40:21.112210",
     "status": "completed"
    },
    "tags": []
   },
   "outputs": [],
   "source": [
    "# Transform any non-normal distributions of salary to a normal distribution\n",
    "\n",
    "df_copy['salary_in_usd'] = np.log1p(df_copy['salary_in_usd'])"
   ]
  },
  {
   "cell_type": "code",
   "execution_count": 28,
   "id": "bd147f59",
   "metadata": {
    "execution": {
     "iopub.execute_input": "2023-05-15T08:40:21.186324Z",
     "iopub.status.busy": "2023-05-15T08:40:21.185783Z",
     "iopub.status.idle": "2023-05-15T08:40:21.194429Z",
     "shell.execute_reply": "2023-05-15T08:40:21.192941Z"
    },
    "papermill": {
     "duration": 0.034011,
     "end_time": "2023-05-15T08:40:21.197098",
     "exception": false,
     "start_time": "2023-05-15T08:40:21.163087",
     "status": "completed"
    },
    "tags": []
   },
   "outputs": [],
   "source": [
    "from sklearn.preprocessing import StandardScaler\n",
    "\n",
    "scaler = StandardScaler()\n",
    "df_copy['salary_in_usd'] = scaler.fit_transform(df_copy[['salary_in_usd']]) #double [] used because this function needs a 2-d array and salary column by itself is a 1-d array"
   ]
  },
  {
   "cell_type": "markdown",
   "id": "a9610e9f",
   "metadata": {
    "papermill": {
     "duration": 0.020206,
     "end_time": "2023-05-15T08:40:21.237780",
     "exception": false,
     "start_time": "2023-05-15T08:40:21.217574",
     "status": "completed"
    },
    "tags": []
   },
   "source": [
    "#### Categorical column transformation"
   ]
  },
  {
   "cell_type": "code",
   "execution_count": 29,
   "id": "e91be4d7",
   "metadata": {
    "execution": {
     "iopub.execute_input": "2023-05-15T08:40:21.280494Z",
     "iopub.status.busy": "2023-05-15T08:40:21.280143Z",
     "iopub.status.idle": "2023-05-15T08:40:21.294963Z",
     "shell.execute_reply": "2023-05-15T08:40:21.293596Z"
    },
    "papermill": {
     "duration": 0.039247,
     "end_time": "2023-05-15T08:40:21.297439",
     "exception": false,
     "start_time": "2023-05-15T08:40:21.258192",
     "status": "completed"
    },
    "tags": []
   },
   "outputs": [],
   "source": [
    "from sklearn.pipeline import Pipeline\n",
    "from sklearn.preprocessing import OrdinalEncoder, OneHotEncoder\n",
    "\n",
    "cat_cols = df_copy.select_dtypes(include=['object']).columns\n",
    "num_cols = df_copy.select_dtypes(include=['float64']).columns\n",
    "\n",
    "categorical_transformer = Pipeline(steps=[(\"hotencoder\", OneHotEncoder(handle_unknown=\"ignore\"))])\n"
   ]
  },
  {
   "cell_type": "code",
   "execution_count": 30,
   "id": "669362e1",
   "metadata": {
    "_kg_hide-input": true,
    "execution": {
     "iopub.execute_input": "2023-05-15T08:40:21.341501Z",
     "iopub.status.busy": "2023-05-15T08:40:21.340561Z",
     "iopub.status.idle": "2023-05-15T08:40:21.349380Z",
     "shell.execute_reply": "2023-05-15T08:40:21.347631Z"
    },
    "papermill": {
     "duration": 0.034122,
     "end_time": "2023-05-15T08:40:21.352060",
     "exception": false,
     "start_time": "2023-05-15T08:40:21.317938",
     "status": "completed"
    },
    "tags": []
   },
   "outputs": [
    {
     "data": {
      "text/plain": [
       "Index(['salary_in_usd'], dtype='object')"
      ]
     },
     "execution_count": 30,
     "metadata": {},
     "output_type": "execute_result"
    }
   ],
   "source": [
    "df_copy.salary_in_usd.dtype\n",
    "cat_cols\n",
    "num_cols"
   ]
  },
  {
   "cell_type": "markdown",
   "id": "4a8bb19e",
   "metadata": {
    "papermill": {
     "duration": 0.020252,
     "end_time": "2023-05-15T08:40:21.392639",
     "exception": false,
     "start_time": "2023-05-15T08:40:21.372387",
     "status": "completed"
    },
    "tags": []
   },
   "source": [
    "#### Combine num and cat cols into a pipeline"
   ]
  },
  {
   "cell_type": "code",
   "execution_count": 31,
   "id": "e7254b43",
   "metadata": {
    "execution": {
     "iopub.execute_input": "2023-05-15T08:40:21.436199Z",
     "iopub.status.busy": "2023-05-15T08:40:21.435830Z",
     "iopub.status.idle": "2023-05-15T08:40:21.454620Z",
     "shell.execute_reply": "2023-05-15T08:40:21.452429Z"
    },
    "papermill": {
     "duration": 0.042779,
     "end_time": "2023-05-15T08:40:21.457256",
     "exception": false,
     "start_time": "2023-05-15T08:40:21.414477",
     "status": "completed"
    },
    "tags": []
   },
   "outputs": [],
   "source": [
    "#preprocessor pipeline\n",
    "\n",
    "from sklearn.compose import ColumnTransformer\n",
    "\n",
    "#preprocessor = ColumnTransformer(transformers=[\n",
    "     #   ('cat', categorical_transformer, cat_cols),('num', 'passthrough', num_cols)])\n",
    "\n",
    "preprocessor = ColumnTransformer(transformers=[ (\"cat\", categorical_transformer, cat_cols) ])\n",
    "                                              "
   ]
  },
  {
   "cell_type": "markdown",
   "id": "32d6a1fc",
   "metadata": {
    "papermill": {
     "duration": 0.020536,
     "end_time": "2023-05-15T08:40:21.500074",
     "exception": false,
     "start_time": "2023-05-15T08:40:21.479538",
     "status": "completed"
    },
    "tags": []
   },
   "source": [
    "### Build LR model"
   ]
  },
  {
   "cell_type": "code",
   "execution_count": 32,
   "id": "787d3ad4",
   "metadata": {
    "execution": {
     "iopub.execute_input": "2023-05-15T08:40:21.543356Z",
     "iopub.status.busy": "2023-05-15T08:40:21.542992Z",
     "iopub.status.idle": "2023-05-15T08:40:21.649752Z",
     "shell.execute_reply": "2023-05-15T08:40:21.647839Z"
    },
    "papermill": {
     "duration": 0.131363,
     "end_time": "2023-05-15T08:40:21.652190",
     "exception": false,
     "start_time": "2023-05-15T08:40:21.520827",
     "status": "completed"
    },
    "tags": []
   },
   "outputs": [],
   "source": [
    "#call the LR model\n",
    "\n",
    "from sklearn.linear_model import LinearRegression\n",
    "\n",
    "lr = LinearRegression()"
   ]
  },
  {
   "cell_type": "code",
   "execution_count": 33,
   "id": "355497ed",
   "metadata": {
    "execution": {
     "iopub.execute_input": "2023-05-15T08:40:21.696422Z",
     "iopub.status.busy": "2023-05-15T08:40:21.696038Z",
     "iopub.status.idle": "2023-05-15T08:40:21.700805Z",
     "shell.execute_reply": "2023-05-15T08:40:21.699885Z"
    },
    "papermill": {
     "duration": 0.030844,
     "end_time": "2023-05-15T08:40:21.703648",
     "exception": false,
     "start_time": "2023-05-15T08:40:21.672804",
     "status": "completed"
    },
    "tags": []
   },
   "outputs": [],
   "source": [
    "#create the pipeline\n",
    "\n",
    "from sklearn.pipeline import Pipeline\n",
    "\n",
    "lr_train = Pipeline(steps = [(\"preprocessor\", preprocessor),\n",
    "                                (\"lr\", lr)])"
   ]
  },
  {
   "cell_type": "code",
   "execution_count": 34,
   "id": "ce2a8c27",
   "metadata": {
    "execution": {
     "iopub.execute_input": "2023-05-15T08:40:21.746801Z",
     "iopub.status.busy": "2023-05-15T08:40:21.746458Z",
     "iopub.status.idle": "2023-05-15T08:40:21.798696Z",
     "shell.execute_reply": "2023-05-15T08:40:21.797578Z"
    },
    "papermill": {
     "duration": 0.077139,
     "end_time": "2023-05-15T08:40:21.801374",
     "exception": false,
     "start_time": "2023-05-15T08:40:21.724235",
     "status": "completed"
    },
    "tags": []
   },
   "outputs": [],
   "source": [
    "# fit the model with data \n",
    "\n",
    "reg_model = lr_train.fit(X_train,y_train)"
   ]
  },
  {
   "cell_type": "code",
   "execution_count": 35,
   "id": "ffb1e945",
   "metadata": {
    "execution": {
     "iopub.execute_input": "2023-05-15T08:40:21.843768Z",
     "iopub.status.busy": "2023-05-15T08:40:21.843424Z",
     "iopub.status.idle": "2023-05-15T08:40:21.849247Z",
     "shell.execute_reply": "2023-05-15T08:40:21.848187Z"
    },
    "papermill": {
     "duration": 0.029569,
     "end_time": "2023-05-15T08:40:21.851696",
     "exception": false,
     "start_time": "2023-05-15T08:40:21.822127",
     "status": "completed"
    },
    "tags": []
   },
   "outputs": [
    {
     "name": "stdout",
     "output_type": "stream",
     "text": [
      "Intercept:  [49092.59391996]\n"
     ]
    }
   ],
   "source": [
    "print(\"Intercept: \", reg_model.named_steps['lr'].intercept_)"
   ]
  },
  {
   "cell_type": "code",
   "execution_count": 36,
   "id": "b807ef0f",
   "metadata": {
    "_kg_hide-input": true,
    "execution": {
     "iopub.execute_input": "2023-05-15T08:40:21.895885Z",
     "iopub.status.busy": "2023-05-15T08:40:21.895504Z",
     "iopub.status.idle": "2023-05-15T08:40:21.900292Z",
     "shell.execute_reply": "2023-05-15T08:40:21.898917Z"
    },
    "papermill": {
     "duration": 0.029266,
     "end_time": "2023-05-15T08:40:21.902377",
     "exception": false,
     "start_time": "2023-05-15T08:40:21.873111",
     "status": "completed"
    },
    "tags": []
   },
   "outputs": [],
   "source": [
    "#print(\"Coefficients: \", reg_model.named_steps['lr'].coef_)"
   ]
  },
  {
   "cell_type": "code",
   "execution_count": 37,
   "id": "4285b9a6",
   "metadata": {
    "execution": {
     "iopub.execute_input": "2023-05-15T08:40:21.945688Z",
     "iopub.status.busy": "2023-05-15T08:40:21.944800Z",
     "iopub.status.idle": "2023-05-15T08:40:21.956549Z",
     "shell.execute_reply": "2023-05-15T08:40:21.955241Z"
    },
    "papermill": {
     "duration": 0.036143,
     "end_time": "2023-05-15T08:40:21.959121",
     "exception": false,
     "start_time": "2023-05-15T08:40:21.922978",
     "status": "completed"
    },
    "tags": []
   },
   "outputs": [],
   "source": [
    "X_pred = reg_model.predict(X_test)"
   ]
  },
  {
   "cell_type": "code",
   "execution_count": 38,
   "id": "54d77b44",
   "metadata": {
    "execution": {
     "iopub.execute_input": "2023-05-15T08:40:22.002460Z",
     "iopub.status.busy": "2023-05-15T08:40:22.002111Z",
     "iopub.status.idle": "2023-05-15T08:40:22.008411Z",
     "shell.execute_reply": "2023-05-15T08:40:22.006936Z"
    },
    "papermill": {
     "duration": 0.030449,
     "end_time": "2023-05-15T08:40:22.010565",
     "exception": false,
     "start_time": "2023-05-15T08:40:21.980116",
     "status": "completed"
    },
    "tags": []
   },
   "outputs": [
    {
     "name": "stdout",
     "output_type": "stream",
     "text": [
      "Predicted values:  [[162290.41]\n",
      " [133589.86]\n",
      " [124919.5 ]\n",
      " [193196.02]\n",
      " [161097.35]]\n"
     ]
    }
   ],
   "source": [
    "print(\"Predicted values: \", X_pred[0:5].round(2))"
   ]
  },
  {
   "cell_type": "code",
   "execution_count": 39,
   "id": "531a1024",
   "metadata": {
    "execution": {
     "iopub.execute_input": "2023-05-15T08:40:22.054873Z",
     "iopub.status.busy": "2023-05-15T08:40:22.054516Z",
     "iopub.status.idle": "2023-05-15T08:40:22.063333Z",
     "shell.execute_reply": "2023-05-15T08:40:22.061937Z"
    },
    "papermill": {
     "duration": 0.033345,
     "end_time": "2023-05-15T08:40:22.065644",
     "exception": false,
     "start_time": "2023-05-15T08:40:22.032299",
     "status": "completed"
    },
    "tags": []
   },
   "outputs": [
    {
     "data": {
      "text/plain": [
       "3401    140000\n",
       "3505     82744\n",
       "2839     60000\n",
       "1931    164000\n",
       "1102    140000\n",
       "Name: salary_in_usd, dtype: int64"
      ]
     },
     "execution_count": 39,
     "metadata": {},
     "output_type": "execute_result"
    }
   ],
   "source": [
    "y_test.salary_in_usd[0:5]"
   ]
  },
  {
   "cell_type": "code",
   "execution_count": 40,
   "id": "6fddbd01",
   "metadata": {
    "execution": {
     "iopub.execute_input": "2023-05-15T08:40:22.111123Z",
     "iopub.status.busy": "2023-05-15T08:40:22.110722Z",
     "iopub.status.idle": "2023-05-15T08:40:22.118767Z",
     "shell.execute_reply": "2023-05-15T08:40:22.117628Z"
    },
    "papermill": {
     "duration": 0.03468,
     "end_time": "2023-05-15T08:40:22.121734",
     "exception": false,
     "start_time": "2023-05-15T08:40:22.087054",
     "status": "completed"
    },
    "tags": []
   },
   "outputs": [
    {
     "name": "stdout",
     "output_type": "stream",
     "text": [
      "\n",
      " The mean absolute error is:  37370.32035271366 \n",
      " The r-squared score is  0.4310625943769979\n"
     ]
    }
   ],
   "source": [
    "# calculate error\n",
    "from sklearn.metrics import mean_absolute_error, r2_score\n",
    "\n",
    "mea = mean_absolute_error(y_test,X_pred)\n",
    "r2_score = r2_score(y_test, X_pred)\n",
    "\n",
    "print(\"\\n The mean absolute error is: \", mea, \"\\n The r-squared score is \", r2_score)"
   ]
  },
  {
   "cell_type": "markdown",
   "id": "29329567",
   "metadata": {
    "papermill": {
     "duration": 0.021069,
     "end_time": "2023-05-15T08:40:22.165177",
     "exception": false,
     "start_time": "2023-05-15T08:40:22.144108",
     "status": "completed"
    },
    "tags": []
   },
   "source": [
    "### Conclusion"
   ]
  },
  {
   "cell_type": "markdown",
   "id": "11d06ebe",
   "metadata": {
    "papermill": {
     "duration": 0.020599,
     "end_time": "2023-05-15T08:40:22.206692",
     "exception": false,
     "start_time": "2023-05-15T08:40:22.186093",
     "status": "completed"
    },
    "tags": []
   },
   "source": [
    "> - Linear regression analysis revealed that job title, experience level, employment type, company size, and company location are robust predictors of salary. \n",
    "\n",
    "> - Interestingly, work mode and employee's residence location do not appear to have a strong impact on salary.\n",
    "\n",
    "> - The linear regression model is expected to provide more accurate results with a lower mean error absolute value with a larger dataset."
   ]
  },
  {
   "cell_type": "markdown",
   "id": "360dc03e",
   "metadata": {
    "papermill": {
     "duration": 0.02087,
     "end_time": "2023-05-15T08:40:22.249655",
     "exception": false,
     "start_time": "2023-05-15T08:40:22.228785",
     "status": "completed"
    },
    "tags": []
   },
   "source": [
    "### Extra"
   ]
  },
  {
   "cell_type": "code",
   "execution_count": 41,
   "id": "016bd3f5",
   "metadata": {
    "execution": {
     "iopub.execute_input": "2023-05-15T08:40:22.295722Z",
     "iopub.status.busy": "2023-05-15T08:40:22.295388Z",
     "iopub.status.idle": "2023-05-15T08:40:25.889904Z",
     "shell.execute_reply": "2023-05-15T08:40:25.888877Z"
    },
    "papermill": {
     "duration": 3.619051,
     "end_time": "2023-05-15T08:40:25.891572",
     "exception": false,
     "start_time": "2023-05-15T08:40:22.272521",
     "status": "completed"
    },
    "tags": []
   },
   "outputs": [
    {
     "data": {
      "image/png": "[encoded data removed]",
      "text/plain": [
       "<Figure size 640x480 with 1 Axes>"
      ]
     },
     "metadata": {},
     "output_type": "display_data"
    },
    {
     "data": {
      "text/plain": [
       "<Figure size 1600x1200 with 0 Axes>"
      ]
     },
     "execution_count": 41,
     "metadata": {},
     "output_type": "execute_result"
    },
    {
     "data": {
      "text/plain": [
       "<Figure size 640x480 with 0 Axes>"
      ]
     },
     "metadata": {},
     "output_type": "display_data"
    },
    {
     "data": {
      "text/plain": [
       "<Figure size 1600x1200 with 0 Axes>"
      ]
     },
     "metadata": {},
     "output_type": "display_data"
    }
   ],
   "source": [
    "#!pip install wordcloud\n",
    "from wordcloud import WordCloud\n",
    "\n",
    "text = df['job_title'].values\n",
    "text = ' '.join(text)\n",
    "\n",
    "\n",
    "wordcloud = WordCloud(width = 3000, height = 2000, collocations=False, colormap= 'viridis', \n",
    "                      random_state=1, max_words=50, background_color=\"black\").generate(str(text))\n",
    "\n",
    "plt.imshow(wordcloud)\n",
    "plt.axis(\"off\")\n",
    "plt.show()\n",
    "plt.tight_layout(pad = 0) \n",
    "plt.figure(figsize=[16,12])\n"
   ]
  },
  {
   "cell_type": "markdown",
   "id": "323a32a9",
   "metadata": {
    "papermill": {
     "duration": 0.023633,
     "end_time": "2023-05-15T08:40:25.937983",
     "exception": false,
     "start_time": "2023-05-15T08:40:25.914350",
     "status": "completed"
    },
    "tags": []
   },
   "source": [
    "#### Thank you for going through my notebook! I would appreciate your feedback and comments.\n",
    "#### Check my blog on this notebook : [Link](https://emptyjar.in/post/crunching-the-numbers-what-determines-salaries-in-the-data-industry)"
   ]
  }
 ],
 "metadata": {
  "kernelspec": {
   "display_name": "Python 3",
   "language": "python",
   "name": "python3"
  },
  "language_info": {
   "codemirror_mode": {
    "name": "ipython",
    "version": 3
   },
   "file_extension": ".py",
   "mimetype": "text/x-python",
   "name": "python",
   "nbconvert_exporter": "python",
   "pygments_lexer": "ipython3",
   "version": "3.10.10"
  },
  "papermill": {
   "default_parameters": {},
   "duration": 59.375466,
   "end_time": "2023-05-15T08:40:27.185547",
   "environment_variables": {},
   "exception": null,
   "input_path": "__notebook__.ipynb",
   "output_path": "__notebook__.ipynb",
   "parameters": {},
   "start_time": "2023-05-15T08:39:27.810081",
   "version": "2.4.0"
  }
 },
 "nbformat": 4,
 "nbformat_minor": 5
}
